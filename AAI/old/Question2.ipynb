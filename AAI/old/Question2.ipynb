{
 "cells": [
  {
   "cell_type": "code",
   "execution_count": 2,
   "id": "8da2c498",
   "metadata": {},
   "outputs": [],
   "source": [
    "import os\n",
    "import numpy as np\n",
    "from sklearn.model_selection import train_test_split\n",
    "from sklearn.neural_network import MLPClassifier\n",
    "from sklearn.metrics import classification_report\n",
    "from PIL import Image\n",
    "import idx2numpy"
   ]
  },
  {
   "cell_type": "code",
   "execution_count": 3,
   "id": "971e2efc",
   "metadata": {},
   "outputs": [
    {
     "name": "stdout",
     "output_type": "stream",
     "text": [
      "Label: 5\n"
     ]
    }
   ],
   "source": [
    "image_file = \"C:/Users/ICCN LAB PC 7/Downloads/archive (5)/train-images-idx3-ubyte/train-images-idx3-ubyte\"\n",
    "label_file = \"C:/Users/ICCN LAB PC 7/Downloads/archive (5)/train-labels-idx1-ubyte/train-labels-idx1-ubyte\"\n",
    "\n",
    "\n",
    "images = idx2numpy.convert_from_file(image_file)\n",
    "labels = idx2numpy.convert_from_file(label_file)\n",
    "data = []\n",
    "\n",
    "for i in range(len(images)):\n",
    "    img = Image.fromarray(images[i]) \n",
    "    label = labels[i]\n",
    "    data.append((img, label))\n",
    "\n",
    "img, lbl = data[0]\n",
    "img.show()\n",
    "print(f\"Label: {lbl}\")\n"
   ]
  },
  {
   "cell_type": "code",
   "execution_count": null,
   "id": "e123fa8b",
   "metadata": {},
   "outputs": [],
   "source": []
  }
 ],
 "metadata": {
  "kernelspec": {
   "display_name": "Python 3 (ipykernel)",
   "language": "python",
   "name": "python3"
  },
  "language_info": {
   "codemirror_mode": {
    "name": "ipython",
    "version": 3
   },
   "file_extension": ".py",
   "mimetype": "text/x-python",
   "name": "python",
   "nbconvert_exporter": "python",
   "pygments_lexer": "ipython3",
   "version": "3.11.4"
  }
 },
 "nbformat": 4,
 "nbformat_minor": 5
}
