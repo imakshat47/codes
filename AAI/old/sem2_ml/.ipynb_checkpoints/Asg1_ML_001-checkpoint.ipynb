{
 "cells": [
  {
   "cell_type": "markdown",
   "id": "12db933f",
   "metadata": {},
   "source": [
    "Name: Aditi\n",
    "M.Tech. CSA Year 1"
   ]
  },
  {
   "cell_type": "markdown",
   "id": "616206fc",
   "metadata": {},
   "source": [
    "Timestamp: 08/01/2025 11:11    "
   ]
  },
  {
   "cell_type": "markdown",
   "id": "cba6627d",
   "metadata": {},
   "source": [
    "Q1: Write a program that prints all the numbers from 1 to 100. For multiples of 3, \n",
    "    print \"Fizz\" instead of the number, and for multiples of 5, print \"Buzz\". For \n",
    "    numbers that are multiples of both 3 and 5, print \"FizzBuzz\". Any othernumber \n",
    "    print as it is."
   ]
  },
  {
   "cell_type": "code",
   "execution_count": 1,
   "id": "0b746ce3",
   "metadata": {},
   "outputs": [
    {
     "name": "stdout",
     "output_type": "stream",
     "text": [
      "1 2 Fizz 4 Buzz Fizz 7 8 Fizz Buzz 11 Fizz 13 14 Fizzbuzz 16 17 Fizz 19 Buzz Fizz 22 23 Fizz Buzz 26 Fizz 28 29 Fizzbuzz 31 32 Fizz 34 Buzz Fizz 37 38 Fizz Buzz 41 Fizz 43 44 Fizzbuzz 46 47 Fizz 49 Buzz Fizz 52 53 Fizz Buzz 56 Fizz 58 59 Fizzbuzz 61 62 Fizz 64 Buzz Fizz 67 68 Fizz Buzz 71 Fizz 73 74 Fizzbuzz 76 77 Fizz 79 Buzz Fizz 82 83 Fizz Buzz 86 Fizz 88 89 Fizzbuzz 91 92 Fizz 94 Buzz Fizz 97 98 Fizz Buzz "
     ]
    }
   ],
   "source": [
    "for i in range(1,101):\n",
    "    if i%3==0 and i%5==0:\n",
    "        print(\"Fizzbuzz\", end =\" \")\n",
    "    elif i%3==0 and i%5!=0:\n",
    "        print(\"Fizz\", end =\" \")\n",
    "    elif i%5==0 and i%3!=0:\n",
    "        print(\"Buzz\", end =\" \")\n",
    "    else:\n",
    "        print(i, end =\" \")"
   ]
  },
  {
   "cell_type": "markdown",
   "id": "0d8019d2",
   "metadata": {},
   "source": [
    "Q2: Write a recursive function factorial(n) to calculate the factorial of \n",
    "    a given positive integer n."
   ]
  },
  {
   "cell_type": "code",
   "execution_count": 2,
   "id": "4def2991",
   "metadata": {},
   "outputs": [],
   "source": [
    "def factorial(n):\n",
    "    if n==0:\n",
    "        return 1\n",
    "    return n*factorial(n-1)"
   ]
  },
  {
   "cell_type": "code",
   "execution_count": 3,
   "id": "d3fa4ea7",
   "metadata": {},
   "outputs": [
    {
     "name": "stdout",
     "output_type": "stream",
     "text": [
      "120\n"
     ]
    }
   ],
   "source": [
    "#eg\n",
    "num = 5\n",
    "print(factorial(num))"
   ]
  },
  {
   "cell_type": "markdown",
   "id": "99950f38",
   "metadata": {},
   "source": [
    "Q3: Define a class BankAccount in python program with the following:\n",
    "    Attributes: account_number, account_holder, balance.\n",
    "    Methods:\n",
    "    deposit(amount): Adds the amount to the balance.\n",
    "    withdraw(amount): Subtracts the amount from the balance if\n",
    "    sufficient funds are available.\n",
    "    get_balance(): Returns the current balance.\n",
    "    Demonstrate the use of this class with an example."
   ]
  },
  {
   "cell_type": "code",
   "execution_count": 4,
   "id": "6ce67584",
   "metadata": {},
   "outputs": [],
   "source": [
    "class BankAccount:\n",
    "    def __init__(self):\n",
    "        self.bal = 0    \n",
    "    def get_balance(self):\n",
    "        print(\"Current balance is:\", self.bal)    \n",
    "    def deposit(self,amt):\n",
    "        self.bal = self.bal + amt\n",
    "    def withdraw(self,amt):\n",
    "        if amt>self.bal:\n",
    "            print(\"Insufficient\")\n",
    "        else:\n",
    "            self.bal = self.bal - amt"
   ]
  },
  {
   "cell_type": "code",
   "execution_count": 5,
   "id": "2c719029",
   "metadata": {},
   "outputs": [],
   "source": [
    "b = BankAccount()"
   ]
  },
  {
   "cell_type": "code",
   "execution_count": 6,
   "id": "1d0c2f70",
   "metadata": {},
   "outputs": [
    {
     "name": "stdout",
     "output_type": "stream",
     "text": [
      "Current balance is: 1000\n"
     ]
    }
   ],
   "source": [
    "b.deposit(1000)\n",
    "b.get_balance()"
   ]
  },
  {
   "cell_type": "code",
   "execution_count": 7,
   "id": "531dca18",
   "metadata": {},
   "outputs": [
    {
     "name": "stdout",
     "output_type": "stream",
     "text": [
      "Current balance is: 500\n"
     ]
    }
   ],
   "source": [
    "b.withdraw(500)\n",
    "b.get_balance()"
   ]
  },
  {
   "cell_type": "code",
   "execution_count": 8,
   "id": "f6b1aeb7",
   "metadata": {},
   "outputs": [
    {
     "name": "stdout",
     "output_type": "stream",
     "text": [
      "Insufficient\n",
      "Current balance is: 500\n"
     ]
    }
   ],
   "source": [
    "b.withdraw(600)\n",
    "b.get_balance()"
   ]
  },
  {
   "cell_type": "code",
   "execution_count": 9,
   "id": "7863727f",
   "metadata": {},
   "outputs": [
    {
     "name": "stdout",
     "output_type": "stream",
     "text": [
      "Current balance is: 500\n"
     ]
    }
   ],
   "source": [
    "b.get_balance()"
   ]
  },
  {
   "cell_type": "markdown",
   "id": "162cb6cb",
   "metadata": {},
   "source": [
    "Q4: Using the math library to write a function calculate_distance(x1, y1, x2,\n",
    "    y2) that calculates the Euclidean distance between two points (x1, y1) and\n",
    "    (x2, y2)."
   ]
  },
  {
   "cell_type": "code",
   "execution_count": 10,
   "id": "b93ce86b",
   "metadata": {},
   "outputs": [],
   "source": [
    "import math\n",
    "def calculate_distance(x1,y1,x2,y2):\n",
    "    return math.sqrt(math.pow(x1-x2,2) + math.pow(y1-y2,2))    "
   ]
  },
  {
   "cell_type": "code",
   "execution_count": 11,
   "id": "7149c471",
   "metadata": {},
   "outputs": [
    {
     "data": {
      "text/plain": [
       "5.0"
      ]
     },
     "execution_count": 11,
     "metadata": {},
     "output_type": "execute_result"
    }
   ],
   "source": [
    "#eg 0,0 and 3,4\n",
    "calculate_distance(0,0,3,4)"
   ]
  },
  {
   "cell_type": "markdown",
   "id": "ca63b3db",
   "metadata": {},
   "source": [
    "Q5: Write a Python program that uses list comprehension to generate a list of\n",
    "    all numbers between 1 and 1000 divisible by 7 but not by 5."
   ]
  },
  {
   "cell_type": "code",
   "execution_count": 12,
   "id": "f8738b7c",
   "metadata": {},
   "outputs": [
    {
     "name": "stdout",
     "output_type": "stream",
     "text": [
      "[7, 14, 21, 28, 42, 49, 56, 63, 77, 84, 91, 98, 112, 119, 126, 133, 147, 154, 161, 168, 182, 189, 196, 203, 217, 224, 231, 238, 252, 259, 266, 273, 287, 294, 301, 308, 322, 329, 336, 343, 357, 364, 371, 378, 392, 399, 406, 413, 427, 434, 441, 448, 462, 469, 476, 483, 497, 504, 511, 518, 532, 539, 546, 553, 567, 574, 581, 588, 602, 609, 616, 623, 637, 644, 651, 658, 672, 679, 686, 693, 707, 714, 721, 728, 742, 749, 756, 763, 777, 784, 791, 798, 812, 819, 826, 833, 847, 854, 861, 868, 882, 889, 896, 903, 917, 924, 931, 938, 952, 959, 966, 973, 987, 994]\n"
     ]
    }
   ],
   "source": [
    "res = [x for x in range(1,1001) if x%5!=0 and x%7==0]\n",
    "print(res)"
   ]
  },
  {
   "cell_type": "markdown",
   "id": "5ad5e96f",
   "metadata": {},
   "source": [
    "Q6: Write a Python function remove_duplicates(lst) that takes a list as input\n",
    "    and returns a new list with all duplicate elements removed, maintaining the\n",
    "    original order without inbuilt functions."
   ]
  },
  {
   "cell_type": "code",
   "execution_count": 13,
   "id": "e4617716",
   "metadata": {},
   "outputs": [],
   "source": [
    "def remove_duplicates(lst):\n",
    "    new=[]\n",
    "    for i in range(len(lst)):\n",
    "        if lst[i] not in new:\n",
    "            new.append(lst[i])        \n",
    "    return new"
   ]
  },
  {
   "cell_type": "code",
   "execution_count": 14,
   "id": "9b7ad6fa",
   "metadata": {},
   "outputs": [
    {
     "data": {
      "text/plain": [
       "[1, 2, 3, 4]"
      ]
     },
     "execution_count": 14,
     "metadata": {},
     "output_type": "execute_result"
    }
   ],
   "source": [
    "l = [1,1,2,3,3,3,4]\n",
    "remove_duplicates(l)"
   ]
  }
 ],
 "metadata": {
  "kernelspec": {
   "display_name": "Python 3 (ipykernel)",
   "language": "python",
   "name": "python3"
  },
  "language_info": {
   "codemirror_mode": {
    "name": "ipython",
    "version": 3
   },
   "file_extension": ".py",
   "mimetype": "text/x-python",
   "name": "python",
   "nbconvert_exporter": "python",
   "pygments_lexer": "ipython3",
   "version": "3.11.4"
  }
 },
 "nbformat": 4,
 "nbformat_minor": 5
}
