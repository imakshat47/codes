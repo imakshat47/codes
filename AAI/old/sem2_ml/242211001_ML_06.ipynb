{
  "nbformat": 4,
  "nbformat_minor": 0,
  "metadata": {
    "colab": {
      "provenance": [],
      "gpuType": "T4"
    },
    "kernelspec": {
      "name": "python3",
      "display_name": "Python 3"
    },
    "language_info": {
      "name": "python"
    },
    "accelerator": "GPU"
  },
  "cells": [
    {
      "cell_type": "markdown",
      "source": [
        "Dated 05/03/25\n",
        "\n",
        "*   Aditi\n",
        "*   M.Tech. CSA\n",
        "*   242211001\n",
        "*   Timestamp: 11.00 AM"
      ],
      "metadata": {
        "id": "PNcydzy5dk77"
      }
    },
    {
      "cell_type": "code",
      "source": [
        "def unitStep(v):\n",
        "    if v >= 0:\n",
        "        return 1\n",
        "    else:\n",
        "        return 0\n",
        "\n",
        "def perceptronModel(x, w, b):\n",
        "    v = np.dot(w, x) + b\n",
        "    y = unitStep(v)\n",
        "    return y"
      ],
      "metadata": {
        "id": "H4cGp3OHfYna"
      },
      "execution_count": 1,
      "outputs": []
    },
    {
      "cell_type": "code",
      "source": [
        "import numpy as np\n",
        "import pandas as pd"
      ],
      "metadata": {
        "id": "nzqEMd3efg9r"
      },
      "execution_count": 2,
      "outputs": []
    },
    {
      "cell_type": "markdown",
      "source": [
        "OR GATE"
      ],
      "metadata": {
        "id": "qhAzwwXqfJ9D"
      }
    },
    {
      "cell_type": "code",
      "source": [
        "# w1 = 1, w2 = 1, b = -0.5\n",
        "def OR_logicFunction(x):\n",
        "    w = np.array([1, 1])\n",
        "    b = -0.5\n",
        "    return perceptronModel(x, w, b)\n",
        "\n",
        "\n",
        "test1 = np.array([0, 1])\n",
        "test2 = np.array([1, 1])\n",
        "test3 = np.array([0, 0])\n",
        "test4 = np.array([1, 0])\n",
        "\n",
        "print(\"OR({}, {}) = {}\".format(0, 1, OR_logicFunction(test1)))\n",
        "print(\"OR({}, {}) = {}\".format(1, 1, OR_logicFunction(test2)))\n",
        "print(\"OR({}, {}) = {}\".format(0, 0, OR_logicFunction(test3)))\n",
        "print(\"OR({}, {}) = {}\".format(1, 0, OR_logicFunction(test4)))"
      ],
      "metadata": {
        "colab": {
          "base_uri": "https://localhost:8080/"
        },
        "id": "ZcSRCSmTfOBj",
        "outputId": "5aa7557a-7be7-4a0b-9942-e48888751fdf"
      },
      "execution_count": 3,
      "outputs": [
        {
          "output_type": "stream",
          "name": "stdout",
          "text": [
            "OR(0, 1) = 1\n",
            "OR(1, 1) = 1\n",
            "OR(0, 0) = 0\n",
            "OR(1, 0) = 1\n"
          ]
        }
      ]
    },
    {
      "cell_type": "markdown",
      "source": [
        "AND GATE"
      ],
      "metadata": {
        "id": "uvkQRGcTf4RL"
      }
    },
    {
      "cell_type": "code",
      "execution_count": 4,
      "metadata": {
        "colab": {
          "base_uri": "https://localhost:8080/"
        },
        "id": "85UstSz6dkF2",
        "outputId": "68fbf888-21e4-4954-a6c0-be74dc9fd7c4"
      },
      "outputs": [
        {
          "output_type": "stream",
          "name": "stdout",
          "text": [
            "AND(0, 1) = 0\n",
            "AND(1, 1) = 1\n",
            "AND(0, 0) = 0\n",
            "AND(1, 0) = 0\n"
          ]
        }
      ],
      "source": [
        "def AND_logicFunction(x):\n",
        "    w = np.array([1, 1])# w1 = 1, w2 = 1, b = -1.5\n",
        "    b = -1.5\n",
        "    return perceptronModel(x, w, b)\n",
        "test1 = np.array([0, 1])\n",
        "test2 = np.array([1, 1])\n",
        "test3 = np.array([0, 0])\n",
        "test4 = np.array([1, 0])\n",
        "\n",
        "print(\"AND({}, {}) = {}\".format(0, 1, AND_logicFunction(test1)))\n",
        "print(\"AND({}, {}) = {}\".format(1, 1, AND_logicFunction(test2)))\n",
        "print(\"AND({}, {}) = {}\".format(0, 0, AND_logicFunction(test3)))\n",
        "print(\"AND({}, {}) = {}\".format(1, 0, AND_logicFunction(test4)))"
      ]
    },
    {
      "cell_type": "markdown",
      "source": [
        "The amount of iterations the model takes to learn about the gates is 1 i.e. the first run itself because we are just giving the model a formula that it can apply onto the input and get a mathematical result."
      ],
      "metadata": {
        "id": "u80Lm8Esg5Ab"
      }
    },
    {
      "cell_type": "markdown",
      "source": [
        "XOR GATE"
      ],
      "metadata": {
        "id": "TPrbgQz3f607"
      }
    },
    {
      "cell_type": "code",
      "source": [
        "def NOT_logicFunction(x):\n",
        "    w = -1\n",
        "    b = 0.5\n",
        "    return perceptronModel(x, w, b)\n",
        "\n",
        "def XOR_logicFunction(x):\n",
        "    y1 = AND_logicFunction(x)\n",
        "    y2 = OR_logicFunction(x)\n",
        "    y3 = NOT_logicFunction(y1)\n",
        "    final_x = np.array([y2, y3])\n",
        "    finalOutput = AND_logicFunction(final_x)\n",
        "    return finalOutput\n",
        "\n",
        "# testing the Perceptron Model\n",
        "test1 = np.array([0, 1])\n",
        "test2 = np.array([1, 1])\n",
        "test3 = np.array([0, 0])\n",
        "test4 = np.array([1, 0])\n",
        "\n",
        "print(\"XOR({}, {}) = {}\".format(0, 1, XOR_logicFunction(test1)))\n",
        "print(\"XOR({}, {}) = {}\".format(1, 1, XOR_logicFunction(test2)))\n",
        "print(\"XOR({}, {}) = {}\".format(0, 0, XOR_logicFunction(test3)))\n",
        "print(\"XOR({}, {}) = {}\".format(1, 0, XOR_logicFunction(test4)))"
      ],
      "metadata": {
        "colab": {
          "base_uri": "https://localhost:8080/"
        },
        "id": "5pD0RQQMegPz",
        "outputId": "4b41176d-0584-4d94-f145-69dbe01e5aef"
      },
      "execution_count": 5,
      "outputs": [
        {
          "output_type": "stream",
          "name": "stdout",
          "text": [
            "XOR(0, 1) = 1\n",
            "XOR(1, 1) = 0\n",
            "XOR(0, 0) = 0\n",
            "XOR(1, 0) = 1\n"
          ]
        }
      ]
    },
    {
      "cell_type": "markdown",
      "source": [
        "Because the data is linearly inseperable, we cannot use the AND or OR logic here and any sort of operation will lead to possibly false results.\n",
        "\n",
        "Thus we are using XOR gate here which is capable of indicating when the inputs are in the same group or not. It returns 0 for same group data points and 1 for points from different groups."
      ],
      "metadata": {
        "id": "znhvMA32gwrU"
      }
    },
    {
      "cell_type": "markdown",
      "source": [
        "**Using perceptron to build a linear regression classifier.**"
      ],
      "metadata": {
        "id": "JXe0kvqEhfgq"
      }
    },
    {
      "cell_type": "code",
      "source": [
        "import numpy as np\n",
        "import matplotlib.pyplot as plt\n",
        "import torch"
      ],
      "metadata": {
        "id": "HdRCScSTgOA7"
      },
      "execution_count": 6,
      "outputs": []
    },
    {
      "cell_type": "code",
      "source": [
        "x_train = np.array ([[4.7], [2.4], [7.5], [7.1], [4.3], [7.8], [8.9], [5.2], [4.59], [2.1], [8], [5], [7.5], [5], [4],\n",
        "                     [8], [5.2], [4.9], [3], [4.7], [4], [4.8], [3.5], [2.1], [4.1]], dtype = np.float32)\n",
        "y_train = np.array ([[2.6], [1.6], [3.09], [2.4], [2.4], [3.3], [2.6], [1.96], [3.13], [1.76],\n",
        "                     [3.2], [2.1], [1.6], [2.5], [2.2], [2.75], [2.4], [1.8], [1], [2],\n",
        "                     [1.6], [2.4], [2.6], [1.5], [3.1]], dtype = np.float32)"
      ],
      "metadata": {
        "id": "1_MSLeL5hreT"
      },
      "execution_count": 7,
      "outputs": []
    },
    {
      "cell_type": "code",
      "source": [
        "plt.figure(figsize=(8,8))\n",
        "plt.scatter(x_train, y_train, c='fuchsia', s=200, label='Original data')\n",
        "plt.show()"
      ],
      "metadata": {
        "colab": {
          "base_uri": "https://localhost:8080/",
          "height": 676
        },
        "id": "tzl0zYAsh9CM",
        "outputId": "0fbc8b11-1cf1-42c3-ff11-2184b8cd5c9d"
      },
      "execution_count": 8,
      "outputs": [
        {
          "output_type": "display_data",
          "data": {
            "text/plain": [
              "<Figure size 800x800 with 1 Axes>"
            ],
            "image/png": "[encoded data removed]"
          },
          "metadata": {}
        }
      ]
    },
    {
      "cell_type": "code",
      "source": [
        "X_train = torch.from_numpy(x_train)\n",
        "Y_train = torch.from_numpy(y_train)"
      ],
      "metadata": {
        "id": "QxxDq6b0iPhT"
      },
      "execution_count": 9,
      "outputs": []
    },
    {
      "cell_type": "code",
      "source": [
        "print('requires gradient for X_train: ', X_train.requires_grad)\n",
        "print('requires gradient for Y_train: ', Y_train.requires_grad)"
      ],
      "metadata": {
        "colab": {
          "base_uri": "https://localhost:8080/"
        },
        "id": "DG0c5cddiRba",
        "outputId": "36bee2d0-d2a8-410f-9020-97fc117e9535"
      },
      "execution_count": 10,
      "outputs": [
        {
          "output_type": "stream",
          "name": "stdout",
          "text": [
            "requires gradient for X_train:  False\n",
            "requires gradient for Y_train:  False\n"
          ]
        }
      ]
    },
    {
      "cell_type": "code",
      "source": [
        "input_size = 1\n",
        "hidden_size = 1\n",
        "output_size = 1\n",
        "learning_rate = 0.001\n",
        "\n",
        "w1 = torch.rand(input_size, hidden_size, requires_grad=True)\n",
        "b1 = torch.rand(hidden_size, output_size, requires_grad=True)"
      ],
      "metadata": {
        "id": "DJjJPy0hiVC6"
      },
      "execution_count": 11,
      "outputs": []
    },
    {
      "cell_type": "code",
      "source": [
        "for iter in range(1, 4001):\n",
        "    y_pred = X_train.mm(w1).clamp(min=0).add(b1)\n",
        "    loss = (y_pred - Y_train).pow(2).sum()\n",
        "    if iter % 100 ==0:\n",
        "        print(iter, loss.item())\n",
        "    loss.backward()\n",
        "    with torch.no_grad():\n",
        "        w1 -= learning_rate * w1.grad\n",
        "        b1 -= learning_rate * b1.grad\n",
        "        w1.grad.zero_()\n",
        "        b1.grad.zero_()"
      ],
      "metadata": {
        "colab": {
          "base_uri": "https://localhost:8080/"
        },
        "id": "cHia4EpIioCj",
        "outputId": "5f2add6e-4614-48dd-d6c5-dbe0f77a89f9"
      },
      "execution_count": 12,
      "outputs": [
        {
          "output_type": "stream",
          "name": "stdout",
          "text": [
            "100 7.316579341888428\n",
            "200 6.486563682556152\n",
            "300 6.232244491577148\n",
            "400 6.154320240020752\n",
            "500 6.130444526672363\n",
            "600 6.123129367828369\n",
            "700 6.120887279510498\n",
            "800 6.120200157165527\n",
            "900 6.119990825653076\n",
            "1000 6.119926452636719\n",
            "1100 6.1199049949646\n",
            "1200 6.119899749755859\n",
            "1300 6.119898319244385\n",
            "1400 6.119897842407227\n",
            "1500 6.119896411895752\n",
            "1600 6.119897365570068\n",
            "1700 6.119895935058594\n",
            "1800 6.119895935058594\n",
            "1900 6.11989688873291\n",
            "2000 6.11989688873291\n",
            "2100 6.11989688873291\n",
            "2200 6.11989688873291\n",
            "2300 6.11989688873291\n",
            "2400 6.11989688873291\n",
            "2500 6.11989688873291\n",
            "2600 6.11989688873291\n",
            "2700 6.11989688873291\n",
            "2800 6.11989688873291\n",
            "2900 6.11989688873291\n",
            "3000 6.11989688873291\n",
            "3100 6.11989688873291\n",
            "3200 6.11989688873291\n",
            "3300 6.11989688873291\n",
            "3400 6.11989688873291\n",
            "3500 6.11989688873291\n",
            "3600 6.11989688873291\n",
            "3700 6.11989688873291\n",
            "3800 6.11989688873291\n",
            "3900 6.11989688873291\n",
            "4000 6.11989688873291\n"
          ]
        }
      ]
    },
    {
      "cell_type": "code",
      "source": [
        "print ('w1: ', w1)\n",
        "print ('b1: ', b1)"
      ],
      "metadata": {
        "colab": {
          "base_uri": "https://localhost:8080/"
        },
        "id": "Sbu-dEQ9i8ai",
        "outputId": "afda7080-1553-4cb3-f3ff-457fa8a92f5b"
      },
      "execution_count": 13,
      "outputs": [
        {
          "output_type": "stream",
          "name": "stdout",
          "text": [
            "w1:  tensor([[0.1751]], requires_grad=True)\n",
            "b1:  tensor([[1.4045]], requires_grad=True)\n"
          ]
        }
      ]
    },
    {
      "cell_type": "code",
      "source": [
        "predicted = X_train.mm(w1).clamp(min=0).add(b1)"
      ],
      "metadata": {
        "id": "vM7RVmCujLKU"
      },
      "execution_count": 14,
      "outputs": []
    },
    {
      "cell_type": "code",
      "source": [
        "plt.figure(figsize=(8, 8))\n",
        "plt.scatter(X_train, y_train, c='green', s=200, label='Original data')\n",
        "plt.plot(X_train.detach().numpy(), predicted.detach().numpy(), label = 'Fitted line')\n",
        "plt.show()"
      ],
      "metadata": {
        "colab": {
          "base_uri": "https://localhost:8080/",
          "height": 676
        },
        "id": "A0-NXGcLjBkb",
        "outputId": "df7d0d09-dec6-4871-97db-2015c866dfa8"
      },
      "execution_count": 15,
      "outputs": [
        {
          "output_type": "display_data",
          "data": {
            "text/plain": [
              "<Figure size 800x800 with 1 Axes>"
            ],
            "image/png": "[encoded data removed]"
          },
          "metadata": {}
        }
      ]
    },
    {
      "cell_type": "markdown",
      "source": [
        "**Second set of linear regression with perceptron**"
      ],
      "metadata": {
        "id": "thriZtGokNer"
      }
    },
    {
      "cell_type": "code",
      "source": [
        "import numpy as np\n",
        "import matplotlib.pyplot as plt"
      ],
      "metadata": {
        "id": "fuC73IUbj_Jr"
      },
      "execution_count": 16,
      "outputs": []
    },
    {
      "cell_type": "code",
      "source": [
        "x = np.array([3, 1, 7, 8, 4])\n",
        "y = np.array([1, 1, -1, -1, 1])\n",
        "w = 0\n",
        "b = 0\n",
        "learning_rate = 0.01"
      ],
      "metadata": {
        "id": "CTt7FjV-kWZ7"
      },
      "execution_count": 17,
      "outputs": []
    },
    {
      "cell_type": "code",
      "source": [
        "for _ in range(50):\n",
        "    y_hat = np.sign(w * x + b)\n",
        "    correct = y == y_hat\n",
        "    for i in range(len(y)):\n",
        "        if y[i] != y_hat[i]:\n",
        "            w += learning_rate * (y[i] - y_hat[i]) * x[i]\n",
        "            b += learning_rate * (y[i] - y_hat[i])\n",
        "    print(f\"Iteration {_ + 1}: Correctly classified: {np.sum(correct)} / {len(y)}\")"
      ],
      "metadata": {
        "colab": {
          "base_uri": "https://localhost:8080/"
        },
        "id": "ZuwLTPbmkYdk",
        "outputId": "8daf9b07-9ca5-4e09-cbbb-356518dc5cf6"
      },
      "execution_count": 18,
      "outputs": [
        {
          "output_type": "stream",
          "name": "stdout",
          "text": [
            "Iteration 1: Correctly classified: 0 / 5\n",
            "Iteration 2: Correctly classified: 2 / 5\n",
            "Iteration 3: Correctly classified: 3 / 5\n",
            "Iteration 4: Correctly classified: 2 / 5\n",
            "Iteration 5: Correctly classified: 3 / 5\n",
            "Iteration 6: Correctly classified: 3 / 5\n",
            "Iteration 7: Correctly classified: 2 / 5\n",
            "Iteration 8: Correctly classified: 3 / 5\n",
            "Iteration 9: Correctly classified: 3 / 5\n",
            "Iteration 10: Correctly classified: 2 / 5\n",
            "Iteration 11: Correctly classified: 5 / 5\n",
            "Iteration 12: Correctly classified: 5 / 5\n",
            "Iteration 13: Correctly classified: 5 / 5\n",
            "Iteration 14: Correctly classified: 5 / 5\n",
            "Iteration 15: Correctly classified: 5 / 5\n",
            "Iteration 16: Correctly classified: 5 / 5\n",
            "Iteration 17: Correctly classified: 5 / 5\n",
            "Iteration 18: Correctly classified: 5 / 5\n",
            "Iteration 19: Correctly classified: 5 / 5\n",
            "Iteration 20: Correctly classified: 5 / 5\n",
            "Iteration 21: Correctly classified: 5 / 5\n",
            "Iteration 22: Correctly classified: 5 / 5\n",
            "Iteration 23: Correctly classified: 5 / 5\n",
            "Iteration 24: Correctly classified: 5 / 5\n",
            "Iteration 25: Correctly classified: 5 / 5\n",
            "Iteration 26: Correctly classified: 5 / 5\n",
            "Iteration 27: Correctly classified: 5 / 5\n",
            "Iteration 28: Correctly classified: 5 / 5\n",
            "Iteration 29: Correctly classified: 5 / 5\n",
            "Iteration 30: Correctly classified: 5 / 5\n",
            "Iteration 31: Correctly classified: 5 / 5\n",
            "Iteration 32: Correctly classified: 5 / 5\n",
            "Iteration 33: Correctly classified: 5 / 5\n",
            "Iteration 34: Correctly classified: 5 / 5\n",
            "Iteration 35: Correctly classified: 5 / 5\n",
            "Iteration 36: Correctly classified: 5 / 5\n",
            "Iteration 37: Correctly classified: 5 / 5\n",
            "Iteration 38: Correctly classified: 5 / 5\n",
            "Iteration 39: Correctly classified: 5 / 5\n",
            "Iteration 40: Correctly classified: 5 / 5\n",
            "Iteration 41: Correctly classified: 5 / 5\n",
            "Iteration 42: Correctly classified: 5 / 5\n",
            "Iteration 43: Correctly classified: 5 / 5\n",
            "Iteration 44: Correctly classified: 5 / 5\n",
            "Iteration 45: Correctly classified: 5 / 5\n",
            "Iteration 46: Correctly classified: 5 / 5\n",
            "Iteration 47: Correctly classified: 5 / 5\n",
            "Iteration 48: Correctly classified: 5 / 5\n",
            "Iteration 49: Correctly classified: 5 / 5\n",
            "Iteration 50: Correctly classified: 5 / 5\n"
          ]
        }
      ]
    },
    {
      "cell_type": "code",
      "source": [
        "print(f'Final weight (w): {w}')\n",
        "print(f'Final bias (b): {b}')"
      ],
      "metadata": {
        "colab": {
          "base_uri": "https://localhost:8080/"
        },
        "id": "cwiOL5LzkA0T",
        "outputId": "7fcc95b3-6bf7-4de3-d1ef-21c9d91a6509"
      },
      "execution_count": 19,
      "outputs": [
        {
          "output_type": "stream",
          "name": "stdout",
          "text": [
            "Final weight (w): -0.050000000000000086\n",
            "Final bias (b): 0.20999999999999996\n"
          ]
        }
      ]
    },
    {
      "cell_type": "code",
      "source": [
        "plt.scatter(x[y == 1], y[y == 1], color='blue', label='Class 1 (y=1)')\n",
        "plt.scatter(x[y == -1], y[y == -1], color='red', label='Class -1 (y=-1)')\n",
        "x_values = np.linspace(min(x) - 1, max(x) + 1, 100)\n",
        "decision_boundary = -(b + w * x_values) / w\n",
        "plt.plot(x_values, decision_boundary, color='green', linestyle='--', label='Decision Boundary')\n",
        "plt.axhline(0, color='black', linewidth=0.5)  # Line at y = 0\n",
        "plt.axvline(0, color='black', linewidth=0.5)  # Line at x = 0\n",
        "plt.xlabel('Input Feature (x)')\n",
        "plt.ylabel('Decision Boundary (y)')\n",
        "plt.title('Perceptron Decision Boundary')\n",
        "plt.legend()\n",
        "plt.grid(True)\n",
        "plt.show()"
      ],
      "metadata": {
        "colab": {
          "base_uri": "https://localhost:8080/",
          "height": 472
        },
        "id": "khaQcJXmkj0b",
        "outputId": "79e5a152-2b22-4b63-fdde-95794d7c705b"
      },
      "execution_count": 20,
      "outputs": [
        {
          "output_type": "display_data",
          "data": {
            "text/plain": [
              "<Figure size 640x480 with 1 Axes>"
            ],
            "image/png": "[encoded data removed]"
          },
          "metadata": {}
        }
      ]
    },
    {
      "cell_type": "code",
      "source": [],
      "metadata": {
        "id": "FHduKZ1Pkowz"
      },
      "execution_count": 20,
      "outputs": []
    }
  ]
}