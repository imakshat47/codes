{
  "nbformat": 4,
  "nbformat_minor": 0,
  "metadata": {
    "colab": {
      "provenance": [],
      "toc_visible": true
    },
    "kernelspec": {
      "name": "python3",
      "display_name": "Python 3"
    },
    "language_info": {
      "name": "python"
    }
  },
  "cells": [
    {
      "cell_type": "markdown",
      "source": [
        "# Perceptron\n",
        "Akshat Kumar (242211003)"
      ],
      "metadata": {
        "id": "vYigLIkD1Ji_"
      }
    },
    {
      "cell_type": "code",
      "execution_count": 2,
      "metadata": {
        "id": "1kqkEAvR1DsE"
      },
      "outputs": [],
      "source": [
        "# Libraries\n",
        "import numpy as np\n",
        "from time import time,ctime"
      ]
    },
    {
      "cell_type": "code",
      "source": [
        "print(\"Timestamp: \"+ctime(time()))"
      ],
      "metadata": {
        "colab": {
          "base_uri": "https://localhost:8080/"
        },
        "id": "n6-cv_Cl1SWe",
        "outputId": "d9a2f9bc-36a7-412f-f9ce-f62a7759f22a"
      },
      "execution_count": 3,
      "outputs": [
        {
          "output_type": "stream",
          "name": "stdout",
          "text": [
            "Timestamp: Wed Mar  5 05:17:33 2025\n"
          ]
        }
      ]
    },
    {
      "cell_type": "code",
      "source": [
        "def perceptron(X, y, epochs=10, eta=0.1):\n",
        "    # Initialize weights (w1, w2) and bias (b) to 0\n",
        "    weights = np.zeros(X.shape[1])\n",
        "    bias = 0\n",
        "    iterations = 0\n",
        "\n",
        "    # Training loop\n",
        "    for epoch in range(epochs):\n",
        "        error_count = 0\n",
        "        for i in range(len(y)):\n",
        "            # Compute the weighted sum\n",
        "            linear_output = np.dot(X[i], weights) + bias\n",
        "            # Apply activation function (step function)\n",
        "            output = 1 if linear_output >= 0 else 0\n",
        "\n",
        "            # If output is incorrect, update weights and bias\n",
        "            if output != y[i]:\n",
        "                weights += eta * (y[i] - output) * X[i]\n",
        "                bias += eta * (y[i] - output)\n",
        "                error_count += 1\n",
        "\n",
        "        iterations += 1\n",
        "        # If no errors, stop the training\n",
        "        if error_count == 0:\n",
        "            break\n",
        "\n",
        "    return weights, bias, iterations"
      ],
      "metadata": {
        "id": "tZi4KpKJwfkp"
      },
      "execution_count": 26,
      "outputs": []
    },
    {
      "cell_type": "markdown",
      "source": [
        "## OR Gate"
      ],
      "metadata": {
        "id": "-PgSFZO0wkWB"
      }
    },
    {
      "cell_type": "code",
      "source": [
        "X = np.array([[0,0],[0,1],[1,0],[1,1]])\n",
        "Y = np.array([0,1,1,1])\n",
        "\n",
        "weights, bias, iterations = perceptron(X,Y,50)\n",
        "\n",
        "# Print the learned weights and number of iterations\n",
        "print(f\"Learned weights: {weights}\")\n",
        "print(f\"Learned bias: {bias}\")\n",
        "print(f\"Number of iterations: {iterations}\")"
      ],
      "metadata": {
        "colab": {
          "base_uri": "https://localhost:8080/"
        },
        "id": "bX0gPGO9wmVi",
        "outputId": "35a25e37-4679-41f1-c6fe-2ffd1889e90c"
      },
      "execution_count": 29,
      "outputs": [
        {
          "output_type": "stream",
          "name": "stdout",
          "text": [
            "Learned weights: [0.1 0.1]\n",
            "Learned bias: -0.1\n",
            "Number of iterations: 4\n"
          ]
        }
      ]
    },
    {
      "cell_type": "markdown",
      "source": [
        "## AND Gate"
      ],
      "metadata": {
        "id": "HQPYtEnBva2K"
      }
    },
    {
      "cell_type": "code",
      "source": [
        "X = np.array([[0,0],[0,1],[1,0],[1,1]])\n",
        "Y = np.array([0,0,0,1])\n",
        "\n",
        "weights, bias, iterations = perceptron(X,Y,50)\n",
        "\n",
        "# Print the learned weights and number of iterations\n",
        "print(f\"Learned weights: {weights}\")\n",
        "print(f\"Learned bias: {bias}\")\n",
        "print(f\"Number of iterations: {iterations}\")"
      ],
      "metadata": {
        "colab": {
          "base_uri": "https://localhost:8080/"
        },
        "id": "vO1foMKvvRo7",
        "outputId": "c0e004b8-903a-4b53-c6b7-66119ad635a1"
      },
      "execution_count": 28,
      "outputs": [
        {
          "output_type": "stream",
          "name": "stdout",
          "text": [
            "Learned weights: [0.2 0.1]\n",
            "Learned bias: -0.20000000000000004\n",
            "Number of iterations: 4\n"
          ]
        }
      ]
    },
    {
      "cell_type": "markdown",
      "source": [
        "## XOR GATE"
      ],
      "metadata": {
        "id": "BNF3mH1rwh3K"
      }
    },
    {
      "cell_type": "code",
      "source": [
        "# XOR inputs and output\n",
        "X = np.array([[0, 0],\n",
        "              [0, 1],\n",
        "              [1, 0],\n",
        "              [1, 1]])\n",
        "\n",
        "y = np.array([0, 1, 1, 0])  # XOR output\n",
        "\n",
        "X_transformed = np.hstack([X, (X[:, 0] * X[:, 1]).reshape(-1, 1)])\n",
        "\n",
        "weights, bias, iterations = perceptron(X_transformed, y,10)\n",
        "\n",
        "print(\"Learned weights:\", weights)\n",
        "print(\"Learned bias:\", bias)\n",
        "print(f\"Number of iterations: {iterations}\")"
      ],
      "metadata": {
        "colab": {
          "base_uri": "https://localhost:8080/"
        },
        "id": "8ENycMxHwhmS",
        "outputId": "33117839-3625-4f5e-c09f-3804085424a9"
      },
      "execution_count": 31,
      "outputs": [
        {
          "output_type": "stream",
          "name": "stdout",
          "text": [
            "Learned weights: [ 0.1  0.1 -0.3]\n",
            "Learned bias: -0.1\n",
            "Number of iterations: 8\n"
          ]
        }
      ]
    },
    {
      "cell_type": "markdown",
      "source": [
        "## linear regression classifier\n",
        "Exploratory problem: Using perceptron to build a linear regression classifier."
      ],
      "metadata": {
        "id": "wUz-Dm_F0YkC"
      }
    },
    {
      "source": [
        "import matplotlib.pyplot as plt\n",
        "\n",
        "# Generate synthetic data for linear regression\n",
        "np.random.seed(0)\n",
        "X = np.random.rand(100, 1)\n",
        "y = 3 * X + 2 + np.random.randn(100, 1) * 0.5\n",
        "\n",
        "X_b = np.c_[np.ones((X.shape[0], 1)), X]\n",
        "\n",
        "# Perceptron-like linear regression algorithm\n",
        "def perceptron_linear_regression(X, y, epochs=1000, eta=0.1):\n",
        "    weights = np.zeros(X.shape[1])\n",
        "\n",
        "    # Training loop\n",
        "    for epoch in range(epochs):\n",
        "        y_pred = np.dot(X, weights)\n",
        "\n",
        "        # Compute the error (difference between predicted and actual)\n",
        "        error = y_pred - y.ravel()\n",
        "\n",
        "        gradient = (2 / X.shape[0]) * np.dot(X.T, error)\n",
        "        weights = weights - (eta * gradient)\n",
        "\n",
        "    return weights\n",
        "\n",
        "# Train the perceptron for linear regression\n",
        "weights = perceptron_linear_regression(X_b, y)\n",
        "print(\"Learned weights:\", weights)\n",
        "\n",
        "# Plot the results\n",
        "plt.scatter(X, y, color='green', label='Data points')\n",
        "plt.plot(X, np.dot(X_b, weights), color='red', label='Linear regression line')\n",
        "plt.xlabel('X')\n",
        "plt.ylabel('y')\n",
        "plt.title('Linear Regression using Perceptron Algorithm')\n",
        "plt.legend()\n",
        "plt.show()"
      ],
      "cell_type": "code",
      "metadata": {
        "colab": {
          "base_uri": "https://localhost:8080/",
          "height": 489
        },
        "id": "rsGbLPdy0t8B",
        "outputId": "d649b73d-68e1-4282-c268-049e29f4c660"
      },
      "execution_count": 38,
      "outputs": [
        {
          "output_type": "stream",
          "name": "stdout",
          "text": [
            "Learned weights: [2.11107659 2.96846544]\n"
          ]
        },
        {
          "output_type": "display_data",
          "data": {
            "text/plain": [
              "<Figure size 640x480 with 1 Axes>"
            ],
            "image/png": "[encoded data removed]"
          },
          "metadata": {}
        }
      ]
    }
  ]
}