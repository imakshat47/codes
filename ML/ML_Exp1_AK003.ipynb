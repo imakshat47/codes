{
 "cells": [
  {
   "cell_type": "code",
   "execution_count": 7,
   "id": "d5d662e2",
   "metadata": {},
   "outputs": [
    {
     "name": "stdout",
     "output_type": "stream",
     "text": [
      "Akshat Kumar, 003 2025-01-08 10:35:26.675592\n"
     ]
    }
   ],
   "source": [
    "from datetime import datetime\n",
    "# CSBM 611 \n",
    "print(\"Akshat Kumar, 003\",datetime.now())"
   ]
  },
  {
   "cell_type": "code",
   "execution_count": 17,
   "id": "b38235c4",
   "metadata": {},
   "outputs": [
    {
     "name": "stdout",
     "output_type": "stream",
     "text": [
      "1\n",
      "2\n",
      "Fizz\n",
      "4\n",
      "Buzz\n",
      "Fizz\n",
      "7\n",
      "8\n",
      "Fizz\n",
      "Buzz\n",
      "11\n",
      "Fizz\n",
      "13\n",
      "14\n",
      "FizzBuzz\n",
      "16\n",
      "17\n",
      "Fizz\n",
      "19\n",
      "Buzz\n",
      "Fizz\n",
      "22\n",
      "23\n",
      "Fizz\n",
      "Buzz\n",
      "26\n",
      "Fizz\n",
      "28\n",
      "29\n",
      "FizzBuzz\n",
      "31\n",
      "32\n",
      "Fizz\n",
      "34\n",
      "Buzz\n",
      "Fizz\n",
      "37\n",
      "38\n",
      "Fizz\n",
      "Buzz\n",
      "41\n",
      "Fizz\n",
      "43\n",
      "44\n",
      "FizzBuzz\n",
      "46\n",
      "47\n",
      "Fizz\n",
      "49\n",
      "Buzz\n",
      "Fizz\n",
      "52\n",
      "53\n",
      "Fizz\n",
      "Buzz\n",
      "56\n",
      "Fizz\n",
      "58\n",
      "59\n",
      "FizzBuzz\n",
      "61\n",
      "62\n",
      "Fizz\n",
      "64\n",
      "Buzz\n",
      "Fizz\n",
      "67\n",
      "68\n",
      "Fizz\n",
      "Buzz\n",
      "71\n",
      "Fizz\n",
      "73\n",
      "74\n",
      "FizzBuzz\n",
      "76\n",
      "77\n",
      "Fizz\n",
      "79\n",
      "Buzz\n",
      "Fizz\n",
      "82\n",
      "83\n",
      "Fizz\n",
      "Buzz\n",
      "86\n",
      "Fizz\n",
      "88\n",
      "89\n",
      "FizzBuzz\n",
      "91\n",
      "92\n",
      "Fizz\n",
      "94\n",
      "Buzz\n",
      "Fizz\n",
      "97\n",
      "98\n",
      "Fizz\n",
      "Buzz\n"
     ]
    }
   ],
   "source": [
    "## Python assignment \n",
    "# 1. Write a program that prints all the numbers from 1 to 100. For multiples of\n",
    "#    3, print \"Fizz\" instead of the number, and for multiples of 5, print \"Buzz\".\n",
    "#     For numbers that are multiples of both 3 and 5, print \"FizzBuzz\". Any other\n",
    "#     number print as it is.\n",
    "for i in range(1,101):\n",
    "    flg=True\n",
    "    if i%3==0:\n",
    "        print(\"Fizz\",end=\"\")\n",
    "        flg=False\n",
    "    if i%5==0:\n",
    "        print(\"Buzz\",end=\"\")\n",
    "        flg=False\n",
    "    if flg:    \n",
    "        print(i,end=\"\")\n",
    "    print()"
   ]
  },
  {
   "cell_type": "code",
   "execution_count": 12,
   "id": "1ecc7ba8",
   "metadata": {},
   "outputs": [
    {
     "data": {
      "text/plain": [
       "720"
      ]
     },
     "execution_count": 12,
     "metadata": {},
     "output_type": "execute_result"
    }
   ],
   "source": [
    "# 2. Write a recursive function factorial(n) to calculate the factorial of a given positive integer n.\n",
    "def fact(n):\n",
    "    if n==0 or n==1:\n",
    "        return 1\n",
    "    return n*fact(n-1)\n",
    "\n",
    "fact(6)"
   ]
  },
  {
   "cell_type": "code",
   "execution_count": 46,
   "id": "9e15317b",
   "metadata": {},
   "outputs": [
    {
     "name": "stdout",
     "output_type": "stream",
     "text": [
      "Object Created.\n",
      "Object Created.\n",
      "Deposit Success\n",
      "Withdraw Success\n",
      "60\n",
      "40\n"
     ]
    }
   ],
   "source": [
    "# 3. Python class\n",
    "# Define a class BankAccount in python program with the following:\n",
    "# Attributes: account_number, account_holder, balance.\n",
    "# Methods:\n",
    "# deposit(amount): Adds the amount to the balance.\n",
    "# withdraw(amount): Subtracts the amount from the balance if\n",
    "# sufficient funds are available.\n",
    "# get_balance(): Returns the current balance.\n",
    "# Demonstrate the use of this class with an example.\n",
    "\n",
    "class BankAccount:\n",
    "    acc_number = \"\"\n",
    "    acc_holder = \"NA\"\n",
    "    acc_bln=0\n",
    "    def __init__(self,acc_number,acc_holder,acc_bln):\n",
    "        self.acc_number = acc_number\n",
    "        self.acc_holder = acc_holder\n",
    "        self.acc_bln = acc_bln\n",
    "        print(\"Object Created.\")\n",
    "        \n",
    "    def deposit(self,amt):\n",
    "        self.acc_bln+=amt\n",
    "        print(\"Deposit Success\")\n",
    "        \n",
    "    def withdraw(self,amt):\n",
    "        if self.acc_bln >= amt:\n",
    "            self.acc_bln-=amt\n",
    "            print(\"Withdraw Success\")\n",
    "        else: \n",
    "            print(\"Withdraw Failed\")\n",
    "            \n",
    "    def get_balance(self):\n",
    "        return self.acc_bln\n",
    "        \n",
    "\n",
    "a1 = BankAccount(123,\"Maze\",50)\n",
    "a2 = BankAccount(124,\"Raza\",90)\n",
    "a1.deposit(10) # 50 + 10\n",
    "a2.withdraw(50) # 90 - 50\n",
    "print(a1.get_balance())\n",
    "print(a2.get_balance())"
   ]
  },
  {
   "cell_type": "code",
   "execution_count": 16,
   "id": "b178f3d7",
   "metadata": {},
   "outputs": [
    {
     "data": {
      "text/plain": [
       "5.0"
      ]
     },
     "execution_count": 16,
     "metadata": {},
     "output_type": "execute_result"
    }
   ],
   "source": [
    "# 4. Calculate distance \n",
    "# Using the math library to write a function calculate_distance(x1, y1, x2,\n",
    "# y2) that calculates the Euclidean distance between two points (x1, y1) and\n",
    "# (x2, y2).\n",
    "import math\n",
    "def calculate_distance(x1,y1,x2,y2):\n",
    "    return math.sqrt(math.pow(x1-x2,2)+math.pow(y1-y2,2))\n",
    "\n",
    "calculate_distance(6,8,3,4)"
   ]
  },
  {
   "cell_type": "code",
   "execution_count": 20,
   "id": "4a403a5f",
   "metadata": {},
   "outputs": [
    {
     "name": "stdout",
     "output_type": "stream",
     "text": [
      "[7, 14, 21, 28, 42, 49, 56, 63, 77, 84, 91, 98, 112, 119, 126, 133, 147, 154, 161, 168, 182, 189, 196, 203, 217, 224, 231, 238, 252, 259, 266, 273, 287, 294, 301, 308, 322, 329, 336, 343, 357, 364, 371, 378, 392, 399, 406, 413, 427, 434, 441, 448, 462, 469, 476, 483, 497, 504, 511, 518, 532, 539, 546, 553, 567, 574, 581, 588, 602, 609, 616, 623, 637, 644, 651, 658, 672, 679, 686, 693, 707, 714, 721, 728, 742, 749, 756, 763, 777, 784, 791, 798, 812, 819, 826, 833, 847, 854, 861, 868, 882, 889, 896, 903, 917, 924, 931, 938, 952, 959, 966, 973, 987, 994]\n"
     ]
    }
   ],
   "source": [
    "# 5. list comprehension\n",
    "# Write a Python program that uses list comprehension to generate a list of\n",
    "# all numbers between 1 and 1000 divisible by 7 but not by 5.\n",
    "compre_list = []\n",
    "for i in range(1,1001):\n",
    "    if i%7==0:\n",
    "        if i%5!=0:\n",
    "           compre_list.append(i) \n",
    "\n",
    "print(compre_list)"
   ]
  },
  {
   "cell_type": "code",
   "execution_count": 22,
   "id": "8fea6da9",
   "metadata": {},
   "outputs": [
    {
     "name": "stdout",
     "output_type": "stream",
     "text": [
      "Enter the elements (seperated by space): 1 2 3 1 2 3 4 5 6\n",
      "['1', '2', '3', '4', '5', '6']\n"
     ]
    }
   ],
   "source": [
    "# 6. remove duplicate \n",
    "# Write a Python function remove_duplicates(lst) that takes a list as input\n",
    "# and returns a new list with all duplicate elements removed, maintaining the\n",
    "# original order without inbuilt functions.\n",
    "def remove_duplicate(inp):\n",
    "    res = []\n",
    "    for a in inp:\n",
    "        if a not in res:\n",
    "            res.append(a)\n",
    "    return res\n",
    "\n",
    "inp = []\n",
    "inp = input(\"Enter the elements (seperated by space): \").split()\n",
    "print(remove_duplicate(inp))"
   ]
  }
 ],
 "metadata": {
  "kernelspec": {
   "display_name": "Python 3 (ipykernel)",
   "language": "python",
   "name": "python3"
  },
  "language_info": {
   "codemirror_mode": {
    "name": "ipython",
    "version": 3
   },
   "file_extension": ".py",
   "mimetype": "text/x-python",
   "name": "python",
   "nbconvert_exporter": "python",
   "pygments_lexer": "ipython3",
   "version": "3.11.4"
  }
 },
 "nbformat": 4,
 "nbformat_minor": 5
}
