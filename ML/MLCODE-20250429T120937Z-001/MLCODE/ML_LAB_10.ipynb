{
 "cells": [
  {
   "cell_type": "markdown",
   "metadata": {
    "id": "Ss9j5eJPoxjH"
   },
   "source": [
    "# **ANN**"
   ]
  },
  {
   "cell_type": "markdown",
   "metadata": {
    "id": "0k9GhqlGo4aG"
   },
   "source": [
    "(1) Design and implement a neural network model to perform binary image classification. The objective is to classify images into two distinct categories — cats and dogs — using a feed-forward neural network approach. Dataset(https://www.kaggle.com/datasets/bhavikjikadara/dog-and-cat-classification-dataset). (You may need manual feature extraction)\n",
    "\n",
    "• What were the limitations of FFNNs with high-dimensional image inputs?"
   ]
  },
  {
   "cell_type": "markdown",
   "metadata": {
    "id": "H2d3Bj25pF0m"
   },
   "source": [
    "(2) Design and implement a back propagation neural network model to perform binary image classification. The objective is to classify images into two distinct categories — cats and dogs."
   ]
  },
  {
   "cell_type": "code",
   "execution_count": 4,
   "metadata": {
    "colab": {
     "base_uri": "https://localhost:8080/"
    },
    "executionInfo": {
     "elapsed": 6037,
     "status": "ok",
     "timestamp": 1744694699800,
     "user": {
      "displayName": "Arwaz Khan",
      "userId": "06817873676322380190"
     },
     "user_tz": -330
    },
    "id": "beZUsbIZojLj",
    "outputId": "702166f2-f03b-495d-e108-666a3bc10740"
   },
   "outputs": [
    {
     "name": "stdout",
     "output_type": "stream",
     "text": [
      "^C\n"
     ]
    }
   ],
   "source": [
    "#Install dependencies\n",
    "!pip install opencv-python scikit-learn tensorflow torch"
   ]
  },
  {
   "cell_type": "code",
   "execution_count": 1,
   "metadata": {
    "executionInfo": {
     "elapsed": 12599,
     "status": "ok",
     "timestamp": 1744694712409,
     "user": {
      "displayName": "Arwaz Khan",
      "userId": "06817873676322380190"
     },
     "user_tz": -330
    },
    "id": "QEYyS_soqSvW"
   },
   "outputs": [],
   "source": [
    "# Import libraries\n",
    "import os\n",
    "import cv2\n",
    "import numpy as np\n",
    "from sklearn.model_selection import train_test_split\n",
    "from sklearn.preprocessing import LabelEncoder, StandardScaler\n",
    "from sklearn.metrics import classification_report\n",
    "import tensorflow as tf\n",
    "from tensorflow.keras.models import Sequential\n",
    "from tensorflow.keras.layers import Dense\n",
    "import matplotlib.pyplot as plt\n",
    "#from google.colab import drive"
   ]
  },
  {
   "cell_type": "code",
   "execution_count": 3,
   "metadata": {
    "colab": {
     "base_uri": "https://localhost:8080/"
    },
    "executionInfo": {
     "elapsed": 4005,
     "status": "ok",
     "timestamp": 1744694716309,
     "user": {
      "displayName": "Arwaz Khan",
      "userId": "06817873676322380190"
     },
     "user_tz": -330
    },
    "id": "8QHctn5MsCft",
    "outputId": "b64f77eb-acf3-455a-deae-5bdc6d5237e0"
   },
   "outputs": [
    {
     "name": "stdout",
     "output_type": "stream",
     "text": [
      "Dataset path: dataset/dog_and_cat_classification_dataset\n",
      "Dataset directory found!\n"
     ]
    }
   ],
   "source": [
    "# Mount Google Drive and set paths\n",
    "#drive.mount('/content/drive')  # Upload your dataset to Drive\n",
    "#dataset_path = '/content/drive/MyDrive/dog_and_cat_classification_dataset'  # Adjust this if needed\n",
    "\n",
    "dataset_path = 'dataset/dog_and_cat_classification_dataset'\n",
    "\n",
    "# Print the dataset path to verify it\n",
    "print(f\"Dataset path: {dataset_path}\")\n",
    "\n",
    "# Check if the dataset directory exists\n",
    "if os.path.exists(dataset_path):\n",
    "    print(\"Dataset directory found!\")\n",
    "else:\n",
    "    print(f\"Error: Dataset directory not found at {dataset_path}\")"
   ]
  },
  {
   "cell_type": "code",
   "execution_count": 4,
   "metadata": {
    "colab": {
     "base_uri": "https://localhost:8080/"
    },
    "executionInfo": {
     "elapsed": 25,
     "status": "ok",
     "timestamp": 1744694716339,
     "user": {
      "displayName": "Arwaz Khan",
      "userId": "06817873676322380190"
     },
     "user_tz": -330
    },
    "id": "ASbSMLikvJ3U",
    "outputId": "f5166554-5207-4ab6-821d-e9f49760d430"
   },
   "outputs": [
    {
     "name": "stdout",
     "output_type": "stream",
     "text": [
      "Cat and Dog subfolders found!\n"
     ]
    }
   ],
   "source": [
    "cat_folder = os.path.join(dataset_path, 'Cat')\n",
    "dog_folder = os.path.join(dataset_path, 'Dog')\n",
    "if os.path.exists(cat_folder) and os.path.exists(dog_folder):\n",
    "    print(\"Cat and Dog subfolders found!\")\n",
    "else:\n",
    "    print(\"Error: Cat or Dog subfolders not found. Please check the dataset path and folder structure.\")"
   ]
  },
  {
   "cell_type": "markdown",
   "metadata": {
    "id": "d5zlB4kqyrbk"
   },
   "source": [
    "# **TASK 1:**"
   ]
  },
  {
   "cell_type": "code",
   "execution_count": 6,
   "metadata": {
    "executionInfo": {
     "elapsed": 27,
     "status": "ok",
     "timestamp": 1744694716370,
     "user": {
      "displayName": "Arwaz Khan",
      "userId": "06817873676322380190"
     },
     "user_tz": -330
    },
    "id": "VpfwOQrmstym"
   },
   "outputs": [],
   "source": [
    "# Feature extraction function\n",
    "IMG_SIZE = 128\n",
    "def extract_features(image):\n",
    "    image = cv2.resize(image, (IMG_SIZE, IMG_SIZE))\n",
    "    gray = cv2.cvtColor(image, cv2.COLOR_BGR2GRAY)\n",
    "    hist = cv2.calcHist([gray], [0], None, [256], [0, 256]).flatten()\n",
    "    return hist / np.sum(hist)"
   ]
  },
  {
   "cell_type": "code",
   "execution_count": 7,
   "metadata": {
    "executionInfo": {
     "elapsed": 594,
     "status": "ok",
     "timestamp": 1744694716969,
     "user": {
      "displayName": "Arwaz Khan",
      "userId": "06817873676322380190"
     },
     "user_tz": -330
    },
    "id": "68NKp_QJszC-"
   },
   "outputs": [],
   "source": [
    "# Load images and extract features\n",
    "X, y = [], []\n",
    "\n",
    "for folder, label in [(cat_folder, 'cat'), (dog_folder, 'dog')]:\n",
    "    for file in os.listdir(folder):\n",
    "        img_path = os.path.join(folder, file)\n",
    "        image = cv2.imread(img_path)\n",
    "        if image is not None:\n",
    "            features = extract_features(image)\n",
    "            X.append(features)\n",
    "            y.append(label)\n",
    "\n",
    "X = np.array(X)\n",
    "y = np.array(y)"
   ]
  },
  {
   "cell_type": "code",
   "execution_count": 8,
   "metadata": {
    "executionInfo": {
     "elapsed": 16,
     "status": "ok",
     "timestamp": 1744694716992,
     "user": {
      "displayName": "Arwaz Khan",
      "userId": "06817873676322380190"
     },
     "user_tz": -330
    },
    "id": "EV_W9PMSwh5U"
   },
   "outputs": [],
   "source": [
    "# Encode labels and preprocess features\n",
    "le = LabelEncoder()\n",
    "y_encoded = le.fit_transform(y)\n",
    "\n",
    "X_train, X_test, y_train, y_test = train_test_split(X, y_encoded, test_size=0.2, random_state=42)\n",
    "\n",
    "scaler = StandardScaler()\n",
    "X_train = scaler.fit_transform(X_train)\n",
    "X_test = scaler.transform(X_test)"
   ]
  },
  {
   "cell_type": "code",
   "execution_count": 9,
   "metadata": {
    "colab": {
     "base_uri": "https://localhost:8080/"
    },
    "executionInfo": {
     "elapsed": 206,
     "status": "ok",
     "timestamp": 1744694717202,
     "user": {
      "displayName": "Arwaz Khan",
      "userId": "06817873676322380190"
     },
     "user_tz": -330
    },
    "id": "qY5XpFN2wlCk",
    "outputId": "fd192872-ddfc-4c6d-e7aa-ee39a65867bf"
   },
   "outputs": [
    {
     "name": "stderr",
     "output_type": "stream",
     "text": [
      "C:\\Users\\Imak47\\AppData\\Roaming\\Python\\Python312\\site-packages\\keras\\src\\layers\\core\\dense.py:87: UserWarning: Do not pass an `input_shape`/`input_dim` argument to a layer. When using Sequential models, prefer using an `Input(shape)` object as the first layer in the model instead.\n",
      "  super().__init__(activity_regularizer=activity_regularizer, **kwargs)\n"
     ]
    }
   ],
   "source": [
    "# Build the Feedforward Neural Network\n",
    "model = Sequential([\n",
    "    Dense(256, input_shape=(256,), activation='relu'),\n",
    "    Dense(128, activation='relu'),\n",
    "    Dense(1, activation='sigmoid')\n",
    "])\n",
    "\n",
    "model.compile(optimizer='adam', loss='binary_crossentropy', metrics=['accuracy'])"
   ]
  },
  {
   "cell_type": "code",
   "execution_count": 10,
   "metadata": {
    "colab": {
     "base_uri": "https://localhost:8080/"
    },
    "executionInfo": {
     "elapsed": 15849,
     "status": "ok",
     "timestamp": 1744694733057,
     "user": {
      "displayName": "Arwaz Khan",
      "userId": "06817873676322380190"
     },
     "user_tz": -330
    },
    "id": "DTMGiY0kwtPE",
    "outputId": "6a4507bd-d8e1-4053-a671-31d2ced97840"
   },
   "outputs": [
    {
     "name": "stdout",
     "output_type": "stream",
     "text": [
      "Epoch 1/20\n",
      "\u001b[1m2/2\u001b[0m \u001b[32m━━━━━━━━━━━━━━━━━━━━\u001b[0m\u001b[37m\u001b[0m \u001b[1m1s\u001b[0m 122ms/step - accuracy: 0.3945 - loss: 0.8670 - val_accuracy: 0.1667 - val_loss: 0.9930\n",
      "Epoch 2/20\n",
      "\u001b[1m2/2\u001b[0m \u001b[32m━━━━━━━━━━━━━━━━━━━━\u001b[0m\u001b[37m\u001b[0m \u001b[1m0s\u001b[0m 36ms/step - accuracy: 0.7815 - loss: 0.4786 - val_accuracy: 0.2500 - val_loss: 1.3621\n",
      "Epoch 3/20\n",
      "\u001b[1m2/2\u001b[0m \u001b[32m━━━━━━━━━━━━━━━━━━━━\u001b[0m\u001b[37m\u001b[0m \u001b[1m0s\u001b[0m 54ms/step - accuracy: 0.8590 - loss: 0.3772 - val_accuracy: 0.1667 - val_loss: 1.5076\n",
      "Epoch 4/20\n",
      "\u001b[1m2/2\u001b[0m \u001b[32m━━━━━━━━━━━━━━━━━━━━\u001b[0m\u001b[37m\u001b[0m \u001b[1m0s\u001b[0m 47ms/step - accuracy: 0.9082 - loss: 0.2890 - val_accuracy: 0.1667 - val_loss: 1.5466\n",
      "Epoch 5/20\n",
      "\u001b[1m2/2\u001b[0m \u001b[32m━━━━━━━━━━━━━━━━━━━━\u001b[0m\u001b[37m\u001b[0m \u001b[1m0s\u001b[0m 44ms/step - accuracy: 0.9508 - loss: 0.2389 - val_accuracy: 0.2500 - val_loss: 1.5522\n",
      "Epoch 6/20\n",
      "\u001b[1m2/2\u001b[0m \u001b[32m━━━━━━━━━━━━━━━━━━━━\u001b[0m\u001b[37m\u001b[0m \u001b[1m0s\u001b[0m 51ms/step - accuracy: 0.9612 - loss: 0.2099 - val_accuracy: 0.3333 - val_loss: 1.5935\n",
      "Epoch 7/20\n",
      "\u001b[1m2/2\u001b[0m \u001b[32m━━━━━━━━━━━━━━━━━━━━\u001b[0m\u001b[37m\u001b[0m \u001b[1m0s\u001b[0m 45ms/step - accuracy: 0.9858 - loss: 0.1648 - val_accuracy: 0.4167 - val_loss: 1.6941\n",
      "Epoch 8/20\n",
      "\u001b[1m2/2\u001b[0m \u001b[32m━━━━━━━━━━━━━━━━━━━━\u001b[0m\u001b[37m\u001b[0m \u001b[1m0s\u001b[0m 46ms/step - accuracy: 0.9754 - loss: 0.1571 - val_accuracy: 0.4167 - val_loss: 1.8328\n",
      "Epoch 9/20\n",
      "\u001b[1m2/2\u001b[0m \u001b[32m━━━━━━━━━━━━━━━━━━━━\u001b[0m\u001b[37m\u001b[0m \u001b[1m0s\u001b[0m 49ms/step - accuracy: 0.9858 - loss: 0.1256 - val_accuracy: 0.4167 - val_loss: 1.9950\n",
      "Epoch 10/20\n",
      "\u001b[1m2/2\u001b[0m \u001b[32m━━━━━━━━━━━━━━━━━━━━\u001b[0m\u001b[37m\u001b[0m \u001b[1m0s\u001b[0m 46ms/step - accuracy: 0.9754 - loss: 0.1129 - val_accuracy: 0.4167 - val_loss: 2.1720\n",
      "Epoch 11/20\n",
      "\u001b[1m2/2\u001b[0m \u001b[32m━━━━━━━━━━━━━━━━━━━━\u001b[0m\u001b[37m\u001b[0m \u001b[1m0s\u001b[0m 42ms/step - accuracy: 1.0000 - loss: 0.0932 - val_accuracy: 0.4167 - val_loss: 2.3350\n",
      "Epoch 12/20\n",
      "\u001b[1m2/2\u001b[0m \u001b[32m━━━━━━━━━━━━━━━━━━━━\u001b[0m\u001b[37m\u001b[0m \u001b[1m0s\u001b[0m 43ms/step - accuracy: 1.0000 - loss: 0.0740 - val_accuracy: 0.4167 - val_loss: 2.4611\n",
      "Epoch 13/20\n",
      "\u001b[1m2/2\u001b[0m \u001b[32m━━━━━━━━━━━━━━━━━━━━\u001b[0m\u001b[37m\u001b[0m \u001b[1m0s\u001b[0m 51ms/step - accuracy: 1.0000 - loss: 0.0644 - val_accuracy: 0.4167 - val_loss: 2.5585\n",
      "Epoch 14/20\n",
      "\u001b[1m2/2\u001b[0m \u001b[32m━━━━━━━━━━━━━━━━━━━━\u001b[0m\u001b[37m\u001b[0m \u001b[1m0s\u001b[0m 45ms/step - accuracy: 1.0000 - loss: 0.0549 - val_accuracy: 0.4167 - val_loss: 2.6303\n",
      "Epoch 15/20\n",
      "\u001b[1m2/2\u001b[0m \u001b[32m━━━━━━━━━━━━━━━━━━━━\u001b[0m\u001b[37m\u001b[0m \u001b[1m0s\u001b[0m 50ms/step - accuracy: 1.0000 - loss: 0.0491 - val_accuracy: 0.4167 - val_loss: 2.6965\n",
      "Epoch 16/20\n",
      "\u001b[1m2/2\u001b[0m \u001b[32m━━━━━━━━━━━━━━━━━━━━\u001b[0m\u001b[37m\u001b[0m \u001b[1m0s\u001b[0m 45ms/step - accuracy: 1.0000 - loss: 0.0412 - val_accuracy: 0.4167 - val_loss: 2.7544\n",
      "Epoch 17/20\n",
      "\u001b[1m2/2\u001b[0m \u001b[32m━━━━━━━━━━━━━━━━━━━━\u001b[0m\u001b[37m\u001b[0m \u001b[1m0s\u001b[0m 47ms/step - accuracy: 1.0000 - loss: 0.0340 - val_accuracy: 0.4167 - val_loss: 2.8327\n",
      "Epoch 18/20\n",
      "\u001b[1m2/2\u001b[0m \u001b[32m━━━━━━━━━━━━━━━━━━━━\u001b[0m\u001b[37m\u001b[0m \u001b[1m0s\u001b[0m 51ms/step - accuracy: 1.0000 - loss: 0.0316 - val_accuracy: 0.4167 - val_loss: 2.9277\n",
      "Epoch 19/20\n",
      "\u001b[1m2/2\u001b[0m \u001b[32m━━━━━━━━━━━━━━━━━━━━\u001b[0m\u001b[37m\u001b[0m \u001b[1m0s\u001b[0m 48ms/step - accuracy: 1.0000 - loss: 0.0257 - val_accuracy: 0.4167 - val_loss: 3.0172\n",
      "Epoch 20/20\n",
      "\u001b[1m2/2\u001b[0m \u001b[32m━━━━━━━━━━━━━━━━━━━━\u001b[0m\u001b[37m\u001b[0m \u001b[1m0s\u001b[0m 51ms/step - accuracy: 1.0000 - loss: 0.0238 - val_accuracy: 0.4167 - val_loss: 3.1155\n"
     ]
    }
   ],
   "source": [
    "# Train the model\n",
    "history = model.fit(X_train, y_train, epochs=20, batch_size=32, validation_data=(X_test, y_test))"
   ]
  },
  {
   "cell_type": "code",
   "execution_count": 11,
   "metadata": {
    "colab": {
     "base_uri": "https://localhost:8080/"
    },
    "executionInfo": {
     "elapsed": 863,
     "status": "ok",
     "timestamp": 1744694733922,
     "user": {
      "displayName": "Arwaz Khan",
      "userId": "06817873676322380190"
     },
     "user_tz": -330
    },
    "id": "QiUrT5Wtw5F8",
    "outputId": "c5e07829-fc5e-41ea-9d7a-2b6472361d2f"
   },
   "outputs": [
    {
     "name": "stdout",
     "output_type": "stream",
     "text": [
      "\u001b[1m1/1\u001b[0m \u001b[32m━━━━━━━━━━━━━━━━━━━━\u001b[0m\u001b[37m\u001b[0m \u001b[1m0s\u001b[0m 28ms/step - accuracy: 0.4167 - loss: 3.1155\n",
      "Test Accuracy: 0.42\n",
      "\u001b[1m1/1\u001b[0m \u001b[32m━━━━━━━━━━━━━━━━━━━━\u001b[0m\u001b[37m\u001b[0m \u001b[1m0s\u001b[0m 41ms/step\n",
      "              precision    recall  f1-score   support\n",
      "\n",
      "         cat       0.33      0.17      0.22         6\n",
      "         dog       0.44      0.67      0.53         6\n",
      "\n",
      "    accuracy                           0.42        12\n",
      "   macro avg       0.39      0.42      0.38        12\n",
      "weighted avg       0.39      0.42      0.38        12\n",
      "\n"
     ]
    }
   ],
   "source": [
    "# Evaluate and print results\n",
    "loss, accuracy = model.evaluate(X_test, y_test)\n",
    "print(f\"Test Accuracy: {accuracy:.2f}\")\n",
    "\n",
    "y_pred = (model.predict(X_test) > 0.5).astype(\"int32\")\n",
    "print(classification_report(y_test, y_pred, target_names=le.classes_))"
   ]
  },
  {
   "cell_type": "code",
   "execution_count": 12,
   "metadata": {
    "colab": {
     "base_uri": "https://localhost:8080/",
     "height": 391
    },
    "executionInfo": {
     "elapsed": 2016,
     "status": "ok",
     "timestamp": 1744694735956,
     "user": {
      "displayName": "Arwaz Khan",
      "userId": "06817873676322380190"
     },
     "user_tz": -330
    },
    "id": "ROw6mtLJw_B8",
    "outputId": "44a266e6-b84b-4fcc-9788-d3bc02beeb4e"
   },
   "outputs": [
    {
     "data": {
      "image/png": "[encoded data removed]",
      "text/plain": [
       "<Figure size 1000x400 with 2 Axes>"
      ]
     },
     "metadata": {},
     "output_type": "display_data"
    }
   ],
   "source": [
    "# STEP 10: Plot accuracy and loss\n",
    "plt.figure(figsize=(10,4))\n",
    "plt.subplot(1,2,1)\n",
    "plt.plot(history.history['accuracy'], label='Train Acc')\n",
    "plt.plot(history.history['val_accuracy'], label='Val Acc')\n",
    "plt.title(\"Accuracy\")\n",
    "plt.legend()\n",
    "\n",
    "plt.subplot(1,2,2)\n",
    "plt.plot(history.history['loss'], label='Train Loss')\n",
    "plt.plot(history.history['val_loss'], label='Val Loss')\n",
    "plt.title(\"Loss\")\n",
    "plt.legend()\n",
    "plt.show()"
   ]
  },
  {
   "cell_type": "markdown",
   "metadata": {
    "id": "ZiYPuWUQxirs"
   },
   "source": [
    "**• What were the limitations of FFNNs with high-dimensional image inputs?**\n",
    "\n",
    "Limitations of FFNNs with High-Dimensional Images:\n",
    "\n",
    "1. High computational cost – Too many parameters when flattening large images.\n",
    "\n",
    "2. No spatial awareness – FFNNs treat pixels independently, ignoring image structure.\n",
    "\n",
    "3. Manual feature extraction – Can't learn patterns automatically like CNNs.\n",
    "\n",
    "4. Overfitting – Large networks with limited data often memorize instead of generalize.\n",
    "\n",
    "5. No translation invariance – Can’t recognize objects in different positions.\n"
   ]
  },
  {
   "cell_type": "markdown",
   "metadata": {
    "id": "wBLJihWHx4wE"
   },
   "source": [
    "\n",
    "\n",
    "---\n",
    "\n"
   ]
  },
  {
   "cell_type": "markdown",
   "metadata": {
    "id": "0nfbWrIbyyaE"
   },
   "source": [
    "# **TASK 2:**"
   ]
  },
  {
   "cell_type": "code",
   "execution_count": 16,
   "metadata": {
    "executionInfo": {
     "elapsed": 19,
     "status": "ok",
     "timestamp": 1744694735974,
     "user": {
      "displayName": "Arwaz Khan",
      "userId": "06817873676322380190"
     },
     "user_tz": -330
    },
    "id": "TwEN0psfx96k"
   },
   "outputs": [],
   "source": [
    "# Preprocessing & Manual Feature Extraction\n",
    "def extract_features(image):\n",
    "    image = cv2.resize(image, (128, 128))\n",
    "    gray = cv2.cvtColor(image, cv2.COLOR_BGR2GRAY)\n",
    "    hist = cv2.calcHist([gray], [0], None, [256], [0, 256]).flatten()\n",
    "    return hist / np.sum(hist)  # Normalize"
   ]
  },
  {
   "cell_type": "code",
   "execution_count": 17,
   "metadata": {
    "colab": {
     "base_uri": "https://localhost:8080/"
    },
    "executionInfo": {
     "elapsed": 19,
     "status": "ok",
     "timestamp": 1744694735993,
     "user": {
      "displayName": "Arwaz Khan",
      "userId": "06817873676322380190"
     },
     "user_tz": -330
    },
    "id": "NyhO-Lx8zHNk",
    "outputId": "0a39a6ea-0fa2-4c81-ef5f-acaecc1971ea"
   },
   "outputs": [
    {
     "name": "stderr",
     "output_type": "stream",
     "text": [
      "C:\\Users\\Imak47\\AppData\\Roaming\\Python\\Python312\\site-packages\\keras\\src\\layers\\core\\dense.py:87: UserWarning: Do not pass an `input_shape`/`input_dim` argument to a layer. When using Sequential models, prefer using an `Input(shape)` object as the first layer in the model instead.\n",
      "  super().__init__(activity_regularizer=activity_regularizer, **kwargs)\n"
     ]
    }
   ],
   "source": [
    "# Backpropagation Network (Using Keras)\n",
    "model = Sequential([\n",
    "    Dense(256, input_dim=256, activation='relu'),  # Input layer\n",
    "    Dense(128, activation='relu'),                 # Hidden layer\n",
    "    Dense(1, activation='sigmoid')                 # Output layer (binary)\n",
    "])"
   ]
  },
  {
   "cell_type": "code",
   "execution_count": 18,
   "metadata": {
    "executionInfo": {
     "elapsed": 19,
     "status": "ok",
     "timestamp": 1744694736013,
     "user": {
      "displayName": "Arwaz Khan",
      "userId": "06817873676322380190"
     },
     "user_tz": -330
    },
    "id": "BfOVXWVRzWok"
   },
   "outputs": [],
   "source": [
    "# Compile the model (backprop happens here)\n",
    "model.compile(optimizer='adam', loss='binary_crossentropy', metrics=['accuracy'])"
   ]
  },
  {
   "cell_type": "code",
   "execution_count": 19,
   "metadata": {
    "colab": {
     "base_uri": "https://localhost:8080/"
    },
    "executionInfo": {
     "elapsed": 6741,
     "status": "ok",
     "timestamp": 1744694742753,
     "user": {
      "displayName": "Arwaz Khan",
      "userId": "06817873676322380190"
     },
     "user_tz": -330
    },
    "id": "J6RfhDx0zYqM",
    "outputId": "9097a3f3-bee1-44da-f1ac-bec40e9e26ff"
   },
   "outputs": [
    {
     "name": "stdout",
     "output_type": "stream",
     "text": [
      "Epoch 1/20\n",
      "\u001b[1m2/2\u001b[0m \u001b[32m━━━━━━━━━━━━━━━━━━━━\u001b[0m\u001b[37m\u001b[0m \u001b[1m1s\u001b[0m 113ms/step - accuracy: 0.4825 - loss: 0.7734 - val_accuracy: 0.2500 - val_loss: 0.9588\n",
      "Epoch 2/20\n",
      "\u001b[1m2/2\u001b[0m \u001b[32m━━━━━━━━━━━━━━━━━━━━\u001b[0m\u001b[37m\u001b[0m \u001b[1m0s\u001b[0m 38ms/step - accuracy: 0.8344 - loss: 0.4637 - val_accuracy: 0.2500 - val_loss: 1.2245\n",
      "Epoch 3/20\n",
      "\u001b[1m2/2\u001b[0m \u001b[32m━━━━━━━━━━━━━━━━━━━━\u001b[0m\u001b[37m\u001b[0m \u001b[1m0s\u001b[0m 38ms/step - accuracy: 0.8732 - loss: 0.3643 - val_accuracy: 0.1667 - val_loss: 1.3312\n",
      "Epoch 4/20\n",
      "\u001b[1m2/2\u001b[0m \u001b[32m━━━━━━━━━━━━━━━━━━━━\u001b[0m\u001b[37m\u001b[0m \u001b[1m0s\u001b[0m 38ms/step - accuracy: 0.8978 - loss: 0.2852 - val_accuracy: 0.1667 - val_loss: 1.3632\n",
      "Epoch 5/20\n",
      "\u001b[1m2/2\u001b[0m \u001b[32m━━━━━━━━━━━━━━━━━━━━\u001b[0m\u001b[37m\u001b[0m \u001b[1m0s\u001b[0m 40ms/step - accuracy: 0.9120 - loss: 0.2457 - val_accuracy: 0.1667 - val_loss: 1.3695\n",
      "Epoch 6/20\n",
      "\u001b[1m2/2\u001b[0m \u001b[32m━━━━━━━━━━━━━━━━━━━━\u001b[0m\u001b[37m\u001b[0m \u001b[1m0s\u001b[0m 39ms/step - accuracy: 0.9508 - loss: 0.2090 - val_accuracy: 0.1667 - val_loss: 1.4188\n",
      "Epoch 7/20\n",
      "\u001b[1m2/2\u001b[0m \u001b[32m━━━━━━━━━━━━━━━━━━━━\u001b[0m\u001b[37m\u001b[0m \u001b[1m0s\u001b[0m 40ms/step - accuracy: 0.9754 - loss: 0.1848 - val_accuracy: 0.2500 - val_loss: 1.5101\n",
      "Epoch 8/20\n",
      "\u001b[1m2/2\u001b[0m \u001b[32m━━━━━━━━━━━━━━━━━━━━\u001b[0m\u001b[37m\u001b[0m \u001b[1m0s\u001b[0m 43ms/step - accuracy: 0.9858 - loss: 0.1459 - val_accuracy: 0.3333 - val_loss: 1.6337\n",
      "Epoch 9/20\n",
      "\u001b[1m2/2\u001b[0m \u001b[32m━━━━━━━━━━━━━━━━━━━━\u001b[0m\u001b[37m\u001b[0m \u001b[1m0s\u001b[0m 39ms/step - accuracy: 1.0000 - loss: 0.1246 - val_accuracy: 0.3333 - val_loss: 1.7696\n",
      "Epoch 10/20\n",
      "\u001b[1m2/2\u001b[0m \u001b[32m━━━━━━━━━━━━━━━━━━━━\u001b[0m\u001b[37m\u001b[0m \u001b[1m0s\u001b[0m 38ms/step - accuracy: 1.0000 - loss: 0.1084 - val_accuracy: 0.2500 - val_loss: 1.9306\n",
      "Epoch 11/20\n",
      "\u001b[1m2/2\u001b[0m \u001b[32m━━━━━━━━━━━━━━━━━━━━\u001b[0m\u001b[37m\u001b[0m \u001b[1m0s\u001b[0m 39ms/step - accuracy: 1.0000 - loss: 0.0925 - val_accuracy: 0.2500 - val_loss: 2.0707\n",
      "Epoch 12/20\n",
      "\u001b[1m2/2\u001b[0m \u001b[32m━━━━━━━━━━━━━━━━━━━━\u001b[0m\u001b[37m\u001b[0m \u001b[1m0s\u001b[0m 41ms/step - accuracy: 1.0000 - loss: 0.0786 - val_accuracy: 0.2500 - val_loss: 2.1965\n",
      "Epoch 13/20\n",
      "\u001b[1m2/2\u001b[0m \u001b[32m━━━━━━━━━━━━━━━━━━━━\u001b[0m\u001b[37m\u001b[0m \u001b[1m0s\u001b[0m 39ms/step - accuracy: 1.0000 - loss: 0.0661 - val_accuracy: 0.3333 - val_loss: 2.3152\n",
      "Epoch 14/20\n",
      "\u001b[1m2/2\u001b[0m \u001b[32m━━━━━━━━━━━━━━━━━━━━\u001b[0m\u001b[37m\u001b[0m \u001b[1m0s\u001b[0m 40ms/step - accuracy: 1.0000 - loss: 0.0552 - val_accuracy: 0.3333 - val_loss: 2.4206\n",
      "Epoch 15/20\n",
      "\u001b[1m2/2\u001b[0m \u001b[32m━━━━━━━━━━━━━━━━━━━━\u001b[0m\u001b[37m\u001b[0m \u001b[1m0s\u001b[0m 39ms/step - accuracy: 1.0000 - loss: 0.0440 - val_accuracy: 0.4167 - val_loss: 2.5103\n",
      "Epoch 16/20\n",
      "\u001b[1m2/2\u001b[0m \u001b[32m━━━━━━━━━━━━━━━━━━━━\u001b[0m\u001b[37m\u001b[0m \u001b[1m0s\u001b[0m 39ms/step - accuracy: 1.0000 - loss: 0.0409 - val_accuracy: 0.4167 - val_loss: 2.5772\n",
      "Epoch 17/20\n",
      "\u001b[1m2/2\u001b[0m \u001b[32m━━━━━━━━━━━━━━━━━━━━\u001b[0m\u001b[37m\u001b[0m \u001b[1m0s\u001b[0m 38ms/step - accuracy: 1.0000 - loss: 0.0373 - val_accuracy: 0.4167 - val_loss: 2.6413\n",
      "Epoch 18/20\n",
      "\u001b[1m2/2\u001b[0m \u001b[32m━━━━━━━━━━━━━━━━━━━━\u001b[0m\u001b[37m\u001b[0m \u001b[1m0s\u001b[0m 39ms/step - accuracy: 1.0000 - loss: 0.0306 - val_accuracy: 0.4167 - val_loss: 2.6946\n",
      "Epoch 19/20\n",
      "\u001b[1m2/2\u001b[0m \u001b[32m━━━━━━━━━━━━━━━━━━━━\u001b[0m\u001b[37m\u001b[0m \u001b[1m0s\u001b[0m 39ms/step - accuracy: 1.0000 - loss: 0.0263 - val_accuracy: 0.5000 - val_loss: 2.7637\n",
      "Epoch 20/20\n",
      "\u001b[1m2/2\u001b[0m \u001b[32m━━━━━━━━━━━━━━━━━━━━\u001b[0m\u001b[37m\u001b[0m \u001b[1m0s\u001b[0m 40ms/step - accuracy: 1.0000 - loss: 0.0244 - val_accuracy: 0.5000 - val_loss: 2.8519\n"
     ]
    },
    {
     "data": {
      "text/plain": [
       "<keras.src.callbacks.history.History at 0x1e0741da090>"
      ]
     },
     "execution_count": 19,
     "metadata": {},
     "output_type": "execute_result"
    }
   ],
   "source": [
    "# Train (Backpropagation used automatically under the hood)\n",
    "model.fit(X_train, y_train, epochs=20, batch_size=32, validation_data=(X_test, y_test))"
   ]
  },
  {
   "cell_type": "code",
   "execution_count": 20,
   "metadata": {
    "colab": {
     "base_uri": "https://localhost:8080/"
    },
    "executionInfo": {
     "elapsed": 131,
     "status": "ok",
     "timestamp": 1744694742885,
     "user": {
      "displayName": "Arwaz Khan",
      "userId": "06817873676322380190"
     },
     "user_tz": -330
    },
    "id": "UfBnHNWtzfME",
    "outputId": "b1502ce2-909b-42e8-f68f-4ca015e60c0b"
   },
   "outputs": [
    {
     "name": "stdout",
     "output_type": "stream",
     "text": [
      "\u001b[1m1/1\u001b[0m \u001b[32m━━━━━━━━━━━━━━━━━━━━\u001b[0m\u001b[37m\u001b[0m \u001b[1m0s\u001b[0m 26ms/step - accuracy: 0.5000 - loss: 2.8519\n",
      "Accuracy: 0.5\n"
     ]
    }
   ],
   "source": [
    "# Evaluation\n",
    "loss, acc = model.evaluate(X_test, y_test)\n",
    "print(\"Accuracy:\", acc)"
   ]
  },
  {
   "cell_type": "code",
   "execution_count": 21,
   "metadata": {
    "colab": {
     "base_uri": "https://localhost:8080/",
     "height": 407
    },
    "executionInfo": {
     "elapsed": 592,
     "status": "ok",
     "timestamp": 1744694743480,
     "user": {
      "displayName": "Arwaz Khan",
      "userId": "06817873676322380190"
     },
     "user_tz": -330
    },
    "id": "z-pdzCir3Iy-",
    "outputId": "91c94d76-720e-48da-bfb5-1c6cf56d5778"
   },
   "outputs": [
    {
     "data": {
      "image/png": "[encoded data removed]",
      "text/plain": [
       "<Figure size 1000x400 with 2 Axes>"
      ]
     },
     "metadata": {},
     "output_type": "display_data"
    }
   ],
   "source": [
    "plt.figure(figsize=(10, 4))\n",
    "\n",
    "# Plot Accuracy\n",
    "plt.subplot(1, 2, 1)\n",
    "plt.plot(history.history['accuracy'], label='Train Acc')\n",
    "plt.plot(history.history['val_accuracy'], label='Val Acc')\n",
    "plt.title(\"Accuracy\")\n",
    "plt.xlabel(\"Epoch\")\n",
    "plt.ylabel(\"Accuracy\")\n",
    "plt.legend()\n",
    "plt.grid(True)\n",
    "\n",
    "# Plot Loss\n",
    "plt.subplot(1, 2, 2)\n",
    "plt.plot(history.history['loss'], label='Train Loss')\n",
    "plt.plot(history.history['val_loss'], label='Val Loss')\n",
    "plt.title(\"Loss\")\n",
    "plt.xlabel(\"Epoch\")\n",
    "plt.ylabel(\"Loss\")\n",
    "plt.legend()\n",
    "plt.grid(True)\n",
    "\n",
    "plt.tight_layout()\n",
    "plt.show()"
   ]
  },
  {
   "cell_type": "markdown",
   "metadata": {
    "id": "dBeJlaU03NHV"
   },
   "source": [
    "\n",
    "\n",
    "---\n",
    "\n"
   ]
  }
 ],
 "metadata": {
  "colab": {
   "authorship_tag": "ABX9TyNrEdEBgDFAImIZvtXBNMWV",
   "mount_file_id": "1Ft-q4AEJB0qIs25oJ5NXWMTe6oy37Pce",
   "provenance": []
  },
  "kernelspec": {
   "display_name": "Python [conda env:base] *",
   "language": "python",
   "name": "conda-base-py"
  },
  "language_info": {
   "codemirror_mode": {
    "name": "ipython",
    "version": 3
   },
   "file_extension": ".py",
   "mimetype": "text/x-python",
   "name": "python",
   "nbconvert_exporter": "python",
   "pygments_lexer": "ipython3",
   "version": "3.12.7"
  }
 },
 "nbformat": 4,
 "nbformat_minor": 4
}
