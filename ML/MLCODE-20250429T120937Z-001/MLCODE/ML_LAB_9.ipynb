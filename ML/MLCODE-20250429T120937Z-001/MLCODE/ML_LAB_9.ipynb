{
 "cells": [
  {
   "cell_type": "markdown",
   "metadata": {
    "id": "ULzr9oTQlzii"
   },
   "source": [
    "# **Logistic Regression and SVM**\n",
    "\n"
   ]
  },
  {
   "cell_type": "markdown",
   "metadata": {
    "id": "n3NQbpWcl1Mr"
   },
   "source": [
    "1. Implement logistic regression for binary classification on CIFAR 10 dataset. Out of 10 classes, select the two classes Birds and Planes. The CIFAR-10 dataset comprises 60,000 color images (32x32 pixels) across 10 distinct classes. (https://www.kaggle.com/c/cifar-10/)\n",
    "2. Implement SVM using PCA for binary classification on the above task. (https://www.analyticsvidhya.com/blog/2021/07/svm-and-pca-tutorial-for-beginners/)"
   ]
  },
  {
   "cell_type": "markdown",
   "metadata": {
    "id": "tfX9b9ZusAzG"
   },
   "source": [
    "# **Library import and Dataset load**"
   ]
  },
  {
   "cell_type": "code",
   "execution_count": 4,
   "metadata": {
    "executionInfo": {
     "elapsed": 9,
     "status": "ok",
     "timestamp": 1744088818759,
     "user": {
      "displayName": "Arwaz Khan",
      "userId": "06817873676322380190"
     },
     "user_tz": -330
    },
    "id": "9SaaMy4Tkpvy"
   },
   "outputs": [
    {
     "ename": "ModuleNotFoundError",
     "evalue": "No module named 'tensorflow'",
     "output_type": "error",
     "traceback": [
      "\u001b[1;31m---------------------------------------------------------------------------\u001b[0m",
      "\u001b[1;31mModuleNotFoundError\u001b[0m                       Traceback (most recent call last)",
      "Cell \u001b[1;32mIn[4], line 4\u001b[0m\n\u001b[0;32m      2\u001b[0m \u001b[38;5;28;01mimport\u001b[39;00m \u001b[38;5;21;01mnumpy\u001b[39;00m \u001b[38;5;28;01mas\u001b[39;00m \u001b[38;5;21;01mnp\u001b[39;00m\n\u001b[0;32m      3\u001b[0m \u001b[38;5;28;01mimport\u001b[39;00m \u001b[38;5;21;01mmatplotlib\u001b[39;00m\u001b[38;5;21;01m.\u001b[39;00m\u001b[38;5;21;01mpyplot\u001b[39;00m \u001b[38;5;28;01mas\u001b[39;00m \u001b[38;5;21;01mplt\u001b[39;00m\n\u001b[1;32m----> 4\u001b[0m \u001b[38;5;28;01mimport\u001b[39;00m \u001b[38;5;21;01mtensorflow\u001b[39;00m \u001b[38;5;28;01mas\u001b[39;00m \u001b[38;5;21;01mtf\u001b[39;00m\n\u001b[0;32m      5\u001b[0m \u001b[38;5;28;01mfrom\u001b[39;00m \u001b[38;5;21;01mtensorflow\u001b[39;00m\u001b[38;5;21;01m.\u001b[39;00m\u001b[38;5;21;01mkeras\u001b[39;00m\u001b[38;5;21;01m.\u001b[39;00m\u001b[38;5;21;01mdatasets\u001b[39;00m \u001b[38;5;28;01mimport\u001b[39;00m cifar10\n\u001b[0;32m      6\u001b[0m \u001b[38;5;28;01mfrom\u001b[39;00m \u001b[38;5;21;01msklearn\u001b[39;00m\u001b[38;5;21;01m.\u001b[39;00m\u001b[38;5;21;01mlinear_model\u001b[39;00m \u001b[38;5;28;01mimport\u001b[39;00m LogisticRegression\n",
      "\u001b[1;31mModuleNotFoundError\u001b[0m: No module named 'tensorflow'"
     ]
    }
   ],
   "source": [
    "# Import necessary libraries\n",
    "import numpy as np\n",
    "import matplotlib.pyplot as plt\n",
    "import tensorflow as tf\n",
    "from tensorflow.keras.datasets import cifar10\n",
    "from sklearn.linear_model import LogisticRegression\n",
    "from sklearn.model_selection import train_test_split, GridSearchCV\n",
    "from sklearn.preprocessing import StandardScaler\n",
    "from sklearn.metrics import accuracy_score, classification_report\n",
    "\n",
    "from sklearn.svm import SVC\n",
    "from sklearn.decomposition import PCA\n",
    "from sklearn.pipeline import make_pipeline"
   ]
  },
  {
   "cell_type": "code",
   "execution_count": null,
   "metadata": {},
   "outputs": [],
   "source": [
    "pip install tensorflow"
   ]
  },
  {
   "cell_type": "code",
   "execution_count": null,
   "metadata": {},
   "outputs": [],
   "source": [
    "# load dataset\n",
    "(x_train, y_train), (x_test, y_test) = cifar10.load_data()"
   ]
  },
  {
   "cell_type": "code",
   "execution_count": null,
   "metadata": {
    "colab": {
     "base_uri": "https://localhost:8080/",
     "height": 0
    },
    "executionInfo": {
     "elapsed": 4,
     "status": "ok",
     "timestamp": 1744088252900,
     "user": {
      "displayName": "Arwaz Khan",
      "userId": "06817873676322380190"
     },
     "user_tz": -330
    },
    "id": "9mjvzZrDwCjN",
    "outputId": "2bf60309-1cf6-4be4-b3f9-ce423df1c5d3"
   },
   "outputs": [],
   "source": [
    "print(\"Dataset Information:\")\n",
    "print(f\"Training data shape: {x_train.shape}\")\n",
    "print(f\"Training labels shape: {y_train.shape}\")\n",
    "print(f\"Test data shape: {x_test.shape}\")\n",
    "print(f\"Test labels shape: {y_test.shape}\")"
   ]
  },
  {
   "cell_type": "markdown",
   "metadata": {
    "id": "CascetP0r6Ue"
   },
   "source": [
    "# **Logistic Regression**"
   ]
  },
  {
   "cell_type": "markdown",
   "metadata": {
    "id": "rP2-KwiDmgnb"
   },
   "source": [
    "**Logistic Regression :** Implement logistic regression for binary classification.\n",
    "\n",
    "**Class :** Birds(class 2) and Airplane(Class 0)."
   ]
  },
  {
   "cell_type": "code",
   "execution_count": null,
   "metadata": {
    "executionInfo": {
     "elapsed": 12,
     "status": "ok",
     "timestamp": 1744088252912,
     "user": {
      "displayName": "Arwaz Khan",
      "userId": "06817873676322380190"
     },
     "user_tz": -330
    },
    "id": "PfVh5bl5ouq2"
   },
   "outputs": [],
   "source": [
    "# Filter for classes 'airplane' (0) and 'bird' (2)\n",
    "def filter_classes(x, y, classes=(0, 2)):\n",
    "    mask = np.isin(y, classes).flatten()\n",
    "    x_filtered = x[mask]\n",
    "    y_filtered = y[mask]\n",
    "    # Convert labels to binary: 0 for plane, 1 for bird\n",
    "    y_filtered = (y_filtered == 2).astype(int).flatten()\n",
    "    return x_filtered, y_filtered"
   ]
  },
  {
   "cell_type": "code",
   "execution_count": null,
   "metadata": {
    "executionInfo": {
     "elapsed": 38,
     "status": "ok",
     "timestamp": 1744088252954,
     "user": {
      "displayName": "Arwaz Khan",
      "userId": "06817873676322380190"
     },
     "user_tz": -330
    },
    "id": "Go-X82iGppFG"
   },
   "outputs": [],
   "source": [
    "# filter train and test data\n",
    "x_train, y_train = filter_classes(x_train, y_train)\n",
    "x_test, y_test = filter_classes(x_test, y_test)"
   ]
  },
  {
   "cell_type": "code",
   "execution_count": null,
   "metadata": {
    "executionInfo": {
     "elapsed": 617,
     "status": "ok",
     "timestamp": 1744088253580,
     "user": {
      "displayName": "Arwaz Khan",
      "userId": "06817873676322380190"
     },
     "user_tz": -330
    },
    "id": "3gbYwSKUpy-l"
   },
   "outputs": [],
   "source": [
    "# Flatten the images (32x32x3 -> 3072)\n",
    "x_train_flat = x_train.reshape(x_train.shape[0], -1)\n",
    "x_test_flat = x_test.reshape(x_test.shape[0], -1)"
   ]
  },
  {
   "cell_type": "code",
   "execution_count": null,
   "metadata": {
    "executionInfo": {
     "elapsed": 1051,
     "status": "ok",
     "timestamp": 1744088254633,
     "user": {
      "displayName": "Arwaz Khan",
      "userId": "06817873676322380190"
     },
     "user_tz": -330
    },
    "id": "QzgdjH27qOwY"
   },
   "outputs": [],
   "source": [
    "# Standardize and transform the data\n",
    "scaler = StandardScaler()\n",
    "x_train_scaled = scaler.fit_transform(x_train_flat)\n",
    "x_test_scaled = scaler.transform(x_test_flat)"
   ]
  },
  {
   "cell_type": "code",
   "execution_count": null,
   "metadata": {
    "executionInfo": {
     "elapsed": 93,
     "status": "ok",
     "timestamp": 1744088254725,
     "user": {
      "displayName": "Arwaz Khan",
      "userId": "06817873676322380190"
     },
     "user_tz": -330
    },
    "id": "TYEzSI3gqXaY"
   },
   "outputs": [],
   "source": [
    "# Split train and test data for validation\n",
    "x_train_split, x_val_split, y_train_split, y_val_split = train_test_split(x_train_scaled, y_train, test_size=0.2, random_state=42)"
   ]
  },
  {
   "cell_type": "code",
   "execution_count": null,
   "metadata": {
    "colab": {
     "base_uri": "https://localhost:8080/",
     "height": 219
    },
    "executionInfo": {
     "elapsed": 52464,
     "status": "ok",
     "timestamp": 1744088307190,
     "user": {
      "displayName": "Arwaz Khan",
      "userId": "06817873676322380190"
     },
     "user_tz": -330
    },
    "id": "nE4VS7CtrumG",
    "outputId": "786f4847-0377-47aa-ca05-507971d763eb"
   },
   "outputs": [],
   "source": [
    "# Initialize and Train the Logistic Regression model\n",
    "log_reg = LogisticRegression(max_iter=1000, random_state=42, verbose=1)  # Initialize the model\n",
    "log_reg.fit(x_train_split, y_train_split) # Train the model on the training data"
   ]
  },
  {
   "cell_type": "code",
   "execution_count": null,
   "metadata": {
    "colab": {
     "base_uri": "https://localhost:8080/",
     "height": 0
    },
    "executionInfo": {
     "elapsed": 4,
     "status": "ok",
     "timestamp": 1744088307195,
     "user": {
      "displayName": "Arwaz Khan",
      "userId": "06817873676322380190"
     },
     "user_tz": -330
    },
    "id": "aMtG4Wn4qpvm",
    "outputId": "fed2a38f-d016-4da1-ae43-261464938bae"
   },
   "outputs": [],
   "source": [
    "# Evaluate on validation set\n",
    "y_val_pred = log_reg.predict(x_val_split)\n",
    "print(\"Validation Accuracy:\", accuracy_score(y_val_split, y_val_pred))\n",
    "print(classification_report(y_val_split, y_val_pred))"
   ]
  },
  {
   "cell_type": "code",
   "execution_count": null,
   "metadata": {
    "colab": {
     "base_uri": "https://localhost:8080/",
     "height": 0
    },
    "executionInfo": {
     "elapsed": 24,
     "status": "ok",
     "timestamp": 1744088307220,
     "user": {
      "displayName": "Arwaz Khan",
      "userId": "06817873676322380190"
     },
     "user_tz": -330
    },
    "id": "47ZYzGYGs5hM",
    "outputId": "a84cd468-9612-48ce-d410-955920bfc2d4"
   },
   "outputs": [],
   "source": [
    "# Evaluate on test set\n",
    "y_test_pred = log_reg.predict(x_test_scaled)\n",
    "print(\"\\nTest Accuracy:\", accuracy_score(y_test, y_test_pred))\n",
    "print(classification_report(y_test, y_test_pred))"
   ]
  },
  {
   "cell_type": "markdown",
   "metadata": {
    "id": "spnKeMjzmkNq"
   },
   "source": [
    "# **SVM**"
   ]
  },
  {
   "cell_type": "markdown",
   "metadata": {
    "id": "wWblP7IJuIV1"
   },
   "source": [
    "**SVM using PCA for binary classification**"
   ]
  },
  {
   "cell_type": "code",
   "execution_count": null,
   "metadata": {
    "executionInfo": {
     "elapsed": 1,
     "status": "ok",
     "timestamp": 1744088307222,
     "user": {
      "displayName": "Arwaz Khan",
      "userId": "06817873676322380190"
     },
     "user_tz": -330
    },
    "id": "TbIVcG8otfcj"
   },
   "outputs": [],
   "source": [
    "# SVM with PCA (preserving 95% of variance)\n",
    "pca = PCA(n_components=0.95, random_state=42)"
   ]
  },
  {
   "cell_type": "code",
   "execution_count": null,
   "metadata": {
    "executionInfo": {
     "elapsed": 1,
     "status": "ok",
     "timestamp": 1744088307230,
     "user": {
      "displayName": "Arwaz Khan",
      "userId": "06817873676322380190"
     },
     "user_tz": -330
    },
    "id": "0V3E3zMouwJf"
   },
   "outputs": [],
   "source": [
    "# Create SVM pipeline with PCA\n",
    "svm = SVC(kernel='rbf', random_state=42)\n",
    "svm_pipeline = make_pipeline(pca, svm)"
   ]
  },
  {
   "cell_type": "code",
   "execution_count": null,
   "metadata": {
    "colab": {
     "base_uri": "https://localhost:8080/",
     "height": 157
    },
    "executionInfo": {
     "elapsed": 45654,
     "status": "ok",
     "timestamp": 1744088352884,
     "user": {
      "displayName": "Arwaz Khan",
      "userId": "06817873676322380190"
     },
     "user_tz": -330
    },
    "id": "4AN1Dm7htidt",
    "outputId": "59c47679-1cfb-43e8-823a-d212b9d79843"
   },
   "outputs": [],
   "source": [
    "# Train SVM with PCA\n",
    "svm_pipeline.fit(x_train_split, y_train_split)"
   ]
  },
  {
   "cell_type": "code",
   "execution_count": null,
   "metadata": {
    "colab": {
     "base_uri": "https://localhost:8080/",
     "height": 0
    },
    "executionInfo": {
     "elapsed": 2710,
     "status": "ok",
     "timestamp": 1744088355593,
     "user": {
      "displayName": "Arwaz Khan",
      "userId": "06817873676322380190"
     },
     "user_tz": -330
    },
    "id": "tmkcgPQMu656",
    "outputId": "b393c903-35ff-424c-8230-01817d55a506"
   },
   "outputs": [],
   "source": [
    "# Evaluate on validation set\n",
    "y_val_pred_svm = svm_pipeline.predict(x_val_split)\n",
    "print(\"\\nSVM Validation Accuracy:\", accuracy_score(y_val_split, y_val_pred_svm))\n",
    "print(classification_report(y_val_split, y_val_pred_svm))"
   ]
  },
  {
   "cell_type": "code",
   "execution_count": null,
   "metadata": {
    "colab": {
     "base_uri": "https://localhost:8080/",
     "height": 0
    },
    "executionInfo": {
     "elapsed": 2397,
     "status": "ok",
     "timestamp": 1744088357988,
     "user": {
      "displayName": "Arwaz Khan",
      "userId": "06817873676322380190"
     },
     "user_tz": -330
    },
    "id": "TBtN5-jxu8gS",
    "outputId": "a9d44c1c-124f-4391-9006-0543cc115ab2"
   },
   "outputs": [],
   "source": [
    "# Evaluate on test set (for both models)\n",
    "y_test_pred_log_reg = log_reg.predict(x_val_split)\n",
    "y_test_pred_svm = svm_pipeline.predict(x_val_split)\n",
    "print(\"\\nLogistic Regression Test Accuracy:\", accuracy_score(y_test, y_test_pred_log_reg))\n",
    "print(\"SVM Test Accuracy:\", accuracy_score(y_test, y_test_pred_svm))"
   ]
  },
  {
   "cell_type": "code",
   "execution_count": null,
   "metadata": {
    "colab": {
     "base_uri": "https://localhost:8080/",
     "height": 0
    },
    "executionInfo": {
     "elapsed": 18,
     "status": "ok",
     "timestamp": 1744088358001,
     "user": {
      "displayName": "Arwaz Khan",
      "userId": "06817873676322380190"
     },
     "user_tz": -330
    },
    "id": "wjBr-iNztmEu",
    "outputId": "76c05d62-d6b2-4658-cc54-dd5938e1ac08"
   },
   "outputs": [],
   "source": [
    "# Print PCA information\n",
    "print(f\"Original dimension: {x_train_split.shape[1]}\")\n",
    "print(f\"Reduced dimension after PCA: {pca.n_components_}\")"
   ]
  }
 ],
 "metadata": {
  "colab": {
   "authorship_tag": "ABX9TyMEwDUviMKd12zS1d38Wb+Z",
   "provenance": []
  },
  "kernelspec": {
   "display_name": "Python [conda env:base] *",
   "language": "python",
   "name": "conda-base-py"
  },
  "language_info": {
   "codemirror_mode": {
    "name": "ipython",
    "version": 3
   },
   "file_extension": ".py",
   "mimetype": "text/x-python",
   "name": "python",
   "nbconvert_exporter": "python",
   "pygments_lexer": "ipython3",
   "version": "3.12.7"
  }
 },
 "nbformat": 4,
 "nbformat_minor": 4
}
