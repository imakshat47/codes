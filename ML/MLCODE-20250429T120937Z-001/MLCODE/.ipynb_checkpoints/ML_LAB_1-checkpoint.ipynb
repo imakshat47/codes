{
 "cells": [
  {
   "cell_type": "markdown",
   "metadata": {
    "id": "ztGEijakDh06"
   },
   "source": [
    "# **Lab 1: Python Programming Assignment**"
   ]
  },
  {
   "cell_type": "markdown",
   "metadata": {
    "id": "PNrp4PFFAJcz"
   },
   "source": [
    "**1. Write a program that prints all the numbers from 1 to 100. For multiples of 3, print \"Fizz\" instead of the number, and for multiples of 5, print \"Buzz\". For numbers that are multiples of both 3 and 5, print \"FizzBuzz\". Any other number print as it is.**"
   ]
  },
  {
   "cell_type": "code",
   "execution_count": 3,
   "metadata": {
    "colab": {
     "base_uri": "https://localhost:8080/"
    },
    "executionInfo": {
     "elapsed": 361,
     "status": "ok",
     "timestamp": 1736224336803,
     "user": {
      "displayName": "Arwaz Khan",
      "userId": "06817873676322380190"
     },
     "user_tz": -330
    },
    "id": "hePxJG8o__F0",
    "outputId": "ee0edea8-853d-445e-ce1c-69cad1571694"
   },
   "outputs": [
    {
     "name": "stdout",
     "output_type": "stream",
     "text": [
      "1\n",
      "2\n",
      "3 :  Fizz\n",
      "4\n",
      "5 :  Buzz\n",
      "6 :  Fizz\n",
      "7\n",
      "8\n",
      "9 :  Fizz\n",
      "10 :  Buzz\n",
      "11\n",
      "12 :  Fizz\n",
      "13\n",
      "14\n",
      "15 :  FizzBuzz\n",
      "16\n",
      "17\n",
      "18 :  Fizz\n",
      "19\n",
      "20 :  Buzz\n",
      "21 :  Fizz\n",
      "22\n",
      "23\n",
      "24 :  Fizz\n",
      "25 :  Buzz\n",
      "26\n",
      "27 :  Fizz\n",
      "28\n",
      "29\n",
      "30 :  FizzBuzz\n",
      "31\n",
      "32\n",
      "33 :  Fizz\n",
      "34\n",
      "35 :  Buzz\n",
      "36 :  Fizz\n",
      "37\n",
      "38\n",
      "39 :  Fizz\n",
      "40 :  Buzz\n",
      "41\n",
      "42 :  Fizz\n",
      "43\n",
      "44\n",
      "45 :  FizzBuzz\n",
      "46\n",
      "47\n",
      "48 :  Fizz\n",
      "49\n",
      "50 :  Buzz\n",
      "51 :  Fizz\n",
      "52\n",
      "53\n",
      "54 :  Fizz\n",
      "55 :  Buzz\n",
      "56\n",
      "57 :  Fizz\n",
      "58\n",
      "59\n",
      "60 :  FizzBuzz\n",
      "61\n",
      "62\n",
      "63 :  Fizz\n",
      "64\n",
      "65 :  Buzz\n",
      "66 :  Fizz\n",
      "67\n",
      "68\n",
      "69 :  Fizz\n",
      "70 :  Buzz\n",
      "71\n",
      "72 :  Fizz\n",
      "73\n",
      "74\n",
      "75 :  FizzBuzz\n",
      "76\n",
      "77\n",
      "78 :  Fizz\n",
      "79\n",
      "80 :  Buzz\n",
      "81 :  Fizz\n",
      "82\n",
      "83\n",
      "84 :  Fizz\n",
      "85 :  Buzz\n",
      "86\n",
      "87 :  Fizz\n",
      "88\n",
      "89\n",
      "90 :  FizzBuzz\n",
      "91\n",
      "92\n",
      "93 :  Fizz\n",
      "94\n",
      "95 :  Buzz\n",
      "96 :  Fizz\n",
      "97\n",
      "98\n",
      "99 :  Fizz\n",
      "100 :  Buzz\n"
     ]
    }
   ],
   "source": [
    "for i in range(1,101):\n",
    "  if (i%3==0 and i%5==0):\n",
    "    print(i,\": \",\"FizzBuzz\")\n",
    "  elif(i%3==0):\n",
    "    print(i,\": \",\"Fizz\")\n",
    "  elif (i%5==0):\n",
    "    print(i,\": \",\"Buzz\")\n",
    "  else:\n",
    "    print(i)\n"
   ]
  },
  {
   "cell_type": "markdown",
   "metadata": {
    "id": "48SIDTpVCVw6"
   },
   "source": [
    "**2. Write a recursive function factorial(n) to calculate the factorial of a given positive integer n.**"
   ]
  },
  {
   "cell_type": "code",
   "execution_count": 5,
   "metadata": {
    "colab": {
     "base_uri": "https://localhost:8080/"
    },
    "executionInfo": {
     "elapsed": 4612,
     "status": "ok",
     "timestamp": 1736224588698,
     "user": {
      "displayName": "Arwaz Khan",
      "userId": "06817873676322380190"
     },
     "user_tz": -330
    },
    "id": "TPmoNqCsAvnD",
    "outputId": "dbd2e04f-77a4-4e0c-ab06-cb6ba14ae5af"
   },
   "outputs": [
    {
     "name": "stdin",
     "output_type": "stream",
     "text": [
      "Enter a number =>  45\n"
     ]
    },
    {
     "name": "stdout",
     "output_type": "stream",
     "text": [
      "119622220865480194561963161495657715064383733760000000000\n"
     ]
    }
   ],
   "source": [
    "def fact(n):\n",
    "  if(n==1):\n",
    "    return 1\n",
    "  return fact(n-1)*n\n",
    "\n",
    "# Main\n",
    "a =int(input(\"Enter a number => \"))\n",
    "a = fact(a)\n",
    "print(a)"
   ]
  },
  {
   "cell_type": "markdown",
   "metadata": {
    "id": "pLExQSeEDNBb"
   },
   "source": [
    "**3. Define a class BankAccount in python program with the following: Attributes: account_number, account_holder, balance. Methods: deposit(amount): Adds the amount to the balance. withdraw(amount): Subtracts the amount from the balance if sufficient funds are available. get_balance(): Returns the current balance. Demonstrate the use of this class with an example.**"
   ]
  },
  {
   "cell_type": "code",
   "execution_count": 7,
   "metadata": {
    "colab": {
     "base_uri": "https://localhost:8080/"
    },
    "executionInfo": {
     "elapsed": 571,
     "status": "ok",
     "timestamp": 1736226020101,
     "user": {
      "displayName": "Arwaz Khan",
      "userId": "06817873676322380190"
     },
     "user_tz": -330
    },
    "id": "t_8Xxs_yHr7p",
    "outputId": "9e973e6a-db0e-4191-d77d-cd9bb5118045"
   },
   "outputs": [
    {
     "name": "stdout",
     "output_type": "stream",
     "text": [
      "Account Number: 1\n",
      "Account Holder: Arwaz\n",
      "Balance: 5000\n",
      "Account Number: 1\n",
      "Account Holder: Arwaz\n",
      "Balance: 7000\n",
      "Account Number: 1\n",
      "Account Holder: Arwaz\n",
      "Balance: 6000\n"
     ]
    }
   ],
   "source": [
    "class BankAccount:\n",
    "  def __init__(self,account_number, account_holder, balance) :\n",
    "    self.account_number = account_number\n",
    "    self.account_holder = account_holder\n",
    "    self.balance = balance\n",
    "\n",
    "  def __str__(self):\n",
    "    return f\"Account Number: {self.account_number}\\nAccount Holder: {self.account_holder}\\nBalance: {self.balance}\"\n",
    "\n",
    "  def deposit(self,amount):\n",
    "    self.balance+=amount\n",
    "\n",
    "  def withdraw(self,amount):\n",
    "    if(self.balance>=amount):\n",
    "      self.balance-=amount\n",
    "    else:\n",
    "      print(\"Insufficient Funds\")\n",
    "\n",
    "  def get_balance(self):\n",
    "    return self.balance\n",
    "\n",
    "\n",
    "# Main\n",
    "customer1 = BankAccount(1,\"Arwaz\",5000)\n",
    "print(customer1)\n",
    "\n",
    "customer1.deposit(2000)\n",
    "print(customer1)\n",
    "\n",
    "customer1.withdraw(1000)\n",
    "print(customer1)"
   ]
  },
  {
   "cell_type": "markdown",
   "metadata": {
    "id": "U9j01TYdDnaC"
   },
   "source": [
    "**4. Using the math library to write a function calculate_distance(x1, y1, x2, y2) that calculates the Euclidean distance between two points (x1, y1) and (x2, y2).**"
   ]
  },
  {
   "cell_type": "code",
   "execution_count": 9,
   "metadata": {
    "colab": {
     "base_uri": "https://localhost:8080/"
    },
    "executionInfo": {
     "elapsed": 9148,
     "status": "ok",
     "timestamp": 1736225054115,
     "user": {
      "displayName": "Arwaz Khan",
      "userId": "06817873676322380190"
     },
     "user_tz": -330
    },
    "id": "rFkDLrvVDr-9",
    "outputId": "019b3b8f-ea6d-46f5-aa21-38145cfd1dd9"
   },
   "outputs": [
    {
     "name": "stdin",
     "output_type": "stream",
     "text": [
      "Enter X1 => 14\n",
      "Enter X2 => 12\n",
      "Enter X3 => 02\n",
      "Enter X4 => 23\n"
     ]
    },
    {
     "name": "stdout",
     "output_type": "stream",
     "text": [
      "16.28\n"
     ]
    }
   ],
   "source": [
    "import math\n",
    "\n",
    "def  calculate_distance(x1, y1, x2, y2):\n",
    "  return math.sqrt((x2-x1)**2+(y2-y1)**2)\n",
    "\n",
    "\n",
    "# Main\n",
    "x1 = int(input(\"Enter X1 =>\"))\n",
    "x2 = int(input(\"Enter X2 =>\"))\n",
    "x3 = int(input(\"Enter X3 =>\"))\n",
    "x4 = int(input(\"Enter X4 =>\"))\n",
    "print(round(calculate_distance(x1,x2,x3,x4),2))"
   ]
  },
  {
   "cell_type": "markdown",
   "metadata": {
    "id": "OxbpyVHKDsqi"
   },
   "source": [
    "**5. Write a Python program that uses list comprehension to generate a list of all numbers between 1 and 1000 divisible by 7 but not by 5.**"
   ]
  },
  {
   "cell_type": "code",
   "execution_count": 11,
   "metadata": {
    "colab": {
     "base_uri": "https://localhost:8080/"
    },
    "executionInfo": {
     "elapsed": 385,
     "status": "ok",
     "timestamp": 1736225231177,
     "user": {
      "displayName": "Arwaz Khan",
      "userId": "06817873676322380190"
     },
     "user_tz": -330
    },
    "id": "4lHomk-XDxej",
    "outputId": "6318e11b-4aa9-42c9-a3cb-b1577464e3da"
   },
   "outputs": [
    {
     "name": "stdout",
     "output_type": "stream",
     "text": [
      "[7, 14, 21, 28, 42, 49, 56, 63, 77, 84, 91, 98, 112, 119, 126, 133, 147, 154, 161, 168, 182, 189, 196, 203, 217, 224, 231, 238, 252, 259, 266, 273, 287, 294, 301, 308, 322, 329, 336, 343, 357, 364, 371, 378, 392, 399, 406, 413, 427, 434, 441, 448, 462, 469, 476, 483, 497, 504, 511, 518, 532, 539, 546, 553, 567, 574, 581, 588, 602, 609, 616, 623, 637, 644, 651, 658, 672, 679, 686, 693, 707, 714, 721, 728, 742, 749, 756, 763, 777, 784, 791, 798, 812, 819, 826, 833, 847, 854, 861, 868, 882, 889, 896, 903, 917, 924, 931, 938, 952, 959, 966, 973, 987, 994]\n"
     ]
    }
   ],
   "source": [
    "ls = [i for i in range(1,1000) if i%7==0 and i%5!=0]\n",
    "print(ls)"
   ]
  },
  {
   "cell_type": "markdown",
   "metadata": {
    "id": "5fsfkKrrDx8K"
   },
   "source": [
    "**6. Write a Python function remove_duplicates(lst) that takes a list as input and returns a new list with all duplicate elements removed, maintaining the original order without inbuilt functions.**"
   ]
  },
  {
   "cell_type": "code",
   "execution_count": 13,
   "metadata": {
    "colab": {
     "base_uri": "https://localhost:8080/"
    },
    "executionInfo": {
     "elapsed": 366,
     "status": "ok",
     "timestamp": 1736225541982,
     "user": {
      "displayName": "Arwaz Khan",
      "userId": "06817873676322380190"
     },
     "user_tz": -330
    },
    "id": "X63ClYz8D2d6",
    "outputId": "9344c8cf-77c0-424d-a6f5-aeb050459227"
   },
   "outputs": [
    {
     "name": "stdout",
     "output_type": "stream",
     "text": [
      "Original List =>  [1, 2, 2, 3, 4, 4, 55, 6, 7]\n",
      "New List =>  [1, 2, 3, 4, 55, 6, 7]\n"
     ]
    }
   ],
   "source": [
    "from random import randint\n",
    "def remove_duplicates(ls):\n",
    "  newLs = []\n",
    "  for i in ls:\n",
    "    if i not in newLs:\n",
    "      newLs.append(i)\n",
    "  return newLs\n",
    "\n",
    "ls = [1,2,2,3,4,4,55,6,7]\n",
    "print(\"Original List => \",ls)\n",
    "newLs = remove_duplicates(ls)\n",
    "print(\"New List => \",newLs)"
   ]
  }
 ],
 "metadata": {
  "colab": {
   "authorship_tag": "ABX9TyPqg9ugG5KyhigAbq7iEb+5",
   "provenance": []
  },
  "kernelspec": {
   "display_name": "Python [conda env:base] *",
   "language": "python",
   "name": "conda-base-py"
  },
  "language_info": {
   "codemirror_mode": {
    "name": "ipython",
    "version": 3
   },
   "file_extension": ".py",
   "mimetype": "text/x-python",
   "name": "python",
   "nbconvert_exporter": "python",
   "pygments_lexer": "ipython3",
   "version": "3.12.7"
  }
 },
 "nbformat": 4,
 "nbformat_minor": 4
}
